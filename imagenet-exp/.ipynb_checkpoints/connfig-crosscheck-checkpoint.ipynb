{
 "cells": [
  {
   "cell_type": "code",
   "execution_count": 2,
   "metadata": {},
   "outputs": [],
   "source": [
    "import torch\n",
    "import json\n",
    "import tqdm\n",
    "import matplotlib.pyplot as plt"
   ]
  },
  {
   "cell_type": "code",
   "execution_count": 21,
   "metadata": {},
   "outputs": [],
   "source": [
    "def print_file_count(root_dir):\n",
    "    import glob\n",
    "    fnames = glob.glob(f\"{root_dir}/[0-9]*.pth\")\n",
    "    print(f\"total files found in {root_dir}: \", len(fnames))\n",
    "\n",
    "\n",
    "def concatenate_files(root_dir):\n",
    "    import glob\n",
    "    fnames = glob.glob(f\"{root_dir}/[0-9]*.pth\")\n",
    "    print(\"total files found: \", len(fnames))\n",
    "    \n",
    "    fnames = sorted(fnames)\n",
    "    preds = []\n",
    "    targets = []\n",
    "    for fname in tqdm.notebook.tqdm(fnames):\n",
    "        f = torch.load(fname)\n",
    "        p = f[\"preds\"]\n",
    "        t = f[\"targets\"]\n",
    "        preds.append(p)\n",
    "        targets.append(t)\n",
    "\n",
    "    if len(preds) == 0:\n",
    "        return\n",
    "    preds = torch.stack(preds, dim=0)\n",
    "    targets = torch.stack(targets, dim=0)\n",
    "\n",
    "    f = {\n",
    "        \"preds\": preds,\n",
    "        \"targets\": targets\n",
    "    }\n",
    "    torch.save(f, f\"{root_dir}/all.pth\")"
   ]
  },
  {
   "cell_type": "code",
   "execution_count": 29,
   "metadata": {},
   "outputs": [
    {
     "name": "stdout",
     "output_type": "stream",
     "text": [
      "total files found in ./logs/stats/16nCr3/:  68\n",
      "total files found in ./logs/stats/16nCr4/:  1820\n",
      "total files found in ./logs/stats/16nCr5/:  631\n",
      "total files found in ./logs/stats/16nCr6/:  34\n",
      "total files found in ./logs/stats/16nCr7/:  3558\n"
     ]
    }
   ],
   "source": [
    "for i in [3, 4, 5, 6, 7]:\n",
    "    print_file_count(f\"./logs/stats/16nCr{i}/\")"
   ]
  },
  {
   "cell_type": "markdown",
   "metadata": {},
   "source": [
    "## Choose 4"
   ]
  },
  {
   "cell_type": "code",
   "execution_count": 4,
   "metadata": {},
   "outputs": [
    {
     "data": {
      "application/vnd.jupyter.widget-view+json": {
       "model_id": "40ba8933168d4e7fbf76baa7e0bea93b",
       "version_major": 2,
       "version_minor": 0
      },
      "text/plain": [
       "  0%|          | 0/1000 [00:00<?, ?it/s]"
      ]
     },
     "metadata": {},
     "output_type": "display_data"
    }
   ],
   "source": [
    "\n",
    "# def process_config(preds, targets):\n",
    "#     class_accuracies = torch.zeros(\n",
    "#         num_classes, dtype=float\n",
    "#     )\n",
    "#     TP = preds == targets\n",
    "#     for class_id in range(num_classes):\n",
    "#         class_mask = targets == class_id\n",
    "#         class_accuracy = (TP[class_mask]).sum() / max(class_mask.sum(), 1)\n",
    "#         class_accuracies[class_id] = class_accuracy\n",
    "\n",
    "#     return class_accuracies\n",
    "\n",
    "\n",
    "num_classes = 1000\n",
    "def process_configs(fname=f\"./logs/stats/16nCr4/all.pth\"):\n",
    "    all_config_results = torch.load(fname)\n",
    "    num_configs = len(all_config_results[\"preds\"])\n",
    "    preds = all_config_results[\"preds\"].cuda()\n",
    "    targets = all_config_results[\"targets\"].cuda()\n",
    "    class_vs_config_accuracies = torch.zeros(num_classes, num_configs, dtype=float, device=\"cuda\")\n",
    "    # WITHOUT VECTORIZATION THIS IS SLOWER:\n",
    "    # for config_id in tqdm.notebook.tqdm(range(num_configs)):\n",
    "    #     try:\n",
    "    #         preds, targets = all_preds[config_id], all_targets[config_id]\n",
    "    #         class_accuracies = process_config(preds, targets)\n",
    "    #         class_vs_config_accuracies[:, config_id] = class_accuracies\n",
    "    #     except FileNotFoundError:\n",
    "    #         print(\"missing\", fname)\n",
    "    #         pass\n",
    "\n",
    "\n",
    "    TP = preds == targets\n",
    "    TP.cuda()\n",
    "    for class_id in tqdm.notebook.tqdm(range(num_classes)):\n",
    "        class_mask = targets == class_id\n",
    "        class_accuracy = (TP * class_mask).sum(dim=1) / class_mask.sum(dim=1)\n",
    "        class_vs_config_accuracies[class_id] = class_accuracy\n",
    "    return class_vs_config_accuracies.cpu()\n",
    "\n",
    "    \n",
    "class_vs_config_accuracies = process_configs()\n",
    "num_configs = class_vs_config_accuracies.shape[1]"
   ]
  },
  {
   "cell_type": "code",
   "execution_count": 8,
   "metadata": {},
   "outputs": [
    {
     "data": {
      "text/plain": [
       "tensor(0.9044, dtype=torch.float64)"
      ]
     },
     "execution_count": 8,
     "metadata": {},
     "output_type": "execute_result"
    }
   ],
   "source": [
    "class_vs_config_accuracies.max(dim=1).values.mean()"
   ]
  },
  {
   "cell_type": "code",
   "execution_count": 108,
   "metadata": {},
   "outputs": [
    {
     "data": {
      "text/plain": [
       "Text(0, 0.5, 'num of best performing classes')"
      ]
     },
     "execution_count": 108,
     "metadata": {},
     "output_type": "execute_result"
    },
    {
     "data": {
      "image/png": "[encoded data removed]",
      "text/plain": [
       "<Figure size 504x360 with 1 Axes>"
      ]
     },
     "metadata": {
      "needs_background": "light"
     },
     "output_type": "display_data"
    }
   ],
   "source": [
    "plt.figure(figsize=[7, 5])\n",
    "plt.hist(class_vs_config_accuracies.argmax(dim=1).numpy(), num_configs, histtype=\"step\")\n",
    "plt.title(\"Counting how many classes perform the best under a certain config\")\n",
    "plt.xlabel(\"config_id\")\n",
    "plt.ylabel(\"num of best performing classes\")"
   ]
  },
  {
   "cell_type": "code",
   "execution_count": 109,
   "metadata": {},
   "outputs": [
    {
     "data": {
      "text/plain": [
       "Text(0, 0.5, 'num of worst performing classes')"
      ]
     },
     "execution_count": 109,
     "metadata": {},
     "output_type": "execute_result"
    },
    {
     "data": {
      "image/png": "[encoded data removed]",
      "text/plain": [
       "<Figure size 504x360 with 1 Axes>"
      ]
     },
     "metadata": {
      "needs_background": "light"
     },
     "output_type": "display_data"
    }
   ],
   "source": [
    "plt.figure(figsize=[7, 5])\n",
    "plt.hist(class_vs_config_accuracies.argmin(dim=1).numpy(), num_configs, histtype=\"step\")\n",
    "plt.title(\"Counting how many classes perform the worst under a certain config\")\n",
    "plt.xlabel(\"config_id\")\n",
    "plt.ylabel(\"num of worst performing classes\")"
   ]
  },
  {
   "cell_type": "markdown",
   "metadata": {},
   "source": [
    "## Choose 7"
   ]
  },
  {
   "cell_type": "code",
   "execution_count": 14,
   "metadata": {},
   "outputs": [
    {
     "data": {
      "application/vnd.jupyter.widget-view+json": {
       "model_id": "521bf95de9a84f42b61323de1dea10b3",
       "version_major": 2,
       "version_minor": 0
      },
      "text/plain": [
       "  0%|          | 0/1000 [00:00<?, ?it/s]"
      ]
     },
     "metadata": {},
     "output_type": "display_data"
    }
   ],
   "source": [
    "class_vs_config_accuracies = process_configs(\"logs/stats/16nCr7/all.pth\")\n",
    "num_configs = class_vs_config_accuracies.shape[1]"
   ]
  },
  {
   "cell_type": "code",
   "execution_count": 15,
   "metadata": {},
   "outputs": [
    {
     "data": {
      "text/plain": [
       "tensor(0.9223, dtype=torch.float64)"
      ]
     },
     "execution_count": 15,
     "metadata": {},
     "output_type": "execute_result"
    }
   ],
   "source": [
    "class_vs_config_accuracies.max(dim=1).values.mean()"
   ]
  },
  {
   "cell_type": "code",
   "execution_count": 112,
   "metadata": {},
   "outputs": [
    {
     "data": {
      "text/plain": [
       "Text(0, 0.5, 'num of best performing classes')"
      ]
     },
     "execution_count": 112,
     "metadata": {},
     "output_type": "execute_result"
    },
    {
     "data": {
      "image/png": "[encoded data removed]",
      "text/plain": [
       "<Figure size 504x360 with 1 Axes>"
      ]
     },
     "metadata": {
      "needs_background": "light"
     },
     "output_type": "display_data"
    }
   ],
   "source": [
    "plt.figure(figsize=[7, 5])\n",
    "plt.hist(class_vs_config_accuracies.argmax(dim=1).numpy(), num_configs, histtype=\"step\")\n",
    "plt.title(\"Counting how many classes perform the best under a certain config (16 nCr 7)\")\n",
    "plt.xlabel(\"config_id\")\n",
    "plt.ylabel(\"num of best performing classes\")"
   ]
  },
  {
   "cell_type": "code",
   "execution_count": 111,
   "metadata": {},
   "outputs": [
    {
     "data": {
      "text/plain": [
       "Text(0, 0.5, 'num of worst performing classes')"
      ]
     },
     "execution_count": 111,
     "metadata": {},
     "output_type": "execute_result"
    },
    {
     "data": {
      "image/png": "[encoded data removed]",
      "text/plain": [
       "<Figure size 504x360 with 1 Axes>"
      ]
     },
     "metadata": {
      "needs_background": "light"
     },
     "output_type": "display_data"
    }
   ],
   "source": [
    "plt.figure(figsize=[7, 5])\n",
    "plt.hist(class_vs_config_accuracies.argmin(dim=1).numpy(), num_configs, histtype=\"step\")\n",
    "plt.title(\"Counting how many classes perform the worst under a certain config (16 nCr 7)\")\n",
    "plt.xlabel(\"config_id\")\n",
    "plt.ylabel(\"num of worst performing classes\")"
   ]
  },
  {
   "cell_type": "markdown",
   "metadata": {},
   "source": [
    "## Find optimal architecture on Val1 and test on Val2"
   ]
  },
  {
   "cell_type": "code",
   "execution_count": 33,
   "metadata": {},
   "outputs": [
    {
     "data": {
      "text/plain": [
       "tensor([3211, 2941, 1284, 2462,  236, 1646, 2144, 1838, 1322,  277,  959,  196,\n",
       "          24,    7, 1867,  270, 3221, 2642, 2601,   24,  326, 3211,   52,   31,\n",
       "           7,  197, 1177, 1329,  263, 3001, 2750, 2154, 2000, 1222, 2000, 2631,\n",
       "        2358, 1322, 2937, 1133,  792, 1541, 1197, 1571, 2412,  637, 1977, 1271,\n",
       "          26, 1270, 2412, 1642, 2269, 1200, 3221, 2248, 1413, 1530, 2452, 3030,\n",
       "        2120, 2306, 1540, 2387, 3173, 1133,  936, 1514, 1945, 2407,    7,    7,\n",
       "          26, 1689, 1463, 2115,    7,   89,    8, 3345, 1699, 2452,  819,  159,\n",
       "        2206,  313, 1565,    7, 2526,   18,  300, 3185, 2525, 1924,   18, 1673,\n",
       "        1040, 2264,  468, 2337, 2060, 1583,    7, 1571, 2115, 2756, 1463,  162,\n",
       "         912, 1631, 2560, 1646,   21, 1793, 1904,  207, 1125, 1705, 1099, 1457,\n",
       "        2616, 1130, 1945, 1447, 1156, 2414, 1125,  847,  446,    7,   62, 3211,\n",
       "           7, 2721, 1025, 1329,   24,  133, 1368,    7, 1053,   61, 1686, 2423,\n",
       "           7,  482, 3221,   53, 1875,  568,  641, 1355, 2976,  539, 1188,  241,\n",
       "        1046,    7, 1699, 1539,  197, 3350,  325, 2348,  133, 1479, 1571, 1257,\n",
       "        1580,  913,  873, 1447, 1539, 1174, 2001, 1504, 3070, 1504,  277, 2414,\n",
       "        2642,  892, 1061,  714, 1494,  307, 1924, 1036, 2944,  263, 1571,  711,\n",
       "        2616, 1642, 1699,  749, 3127,  236, 1543, 1133, 2986, 2509, 3205,  313,\n",
       "        2115, 1601, 1479, 1716, 3267, 1329, 1598, 1463,  873, 1818,  134,  325,\n",
       "          16,   98, 1904, 1934, 1583, 1463,  588,  714, 1472, 1025, 1133, 2310,\n",
       "        1689,  446, 1667, 2251, 3080,   82,    9,  259, 1918, 1322, 1767,    7,\n",
       "         998, 2976,  530, 3388,  258,  529,  622,  504, 1809,  530,  111,  446,\n",
       "        1699,  161, 3074,    7, 1904, 1447,    7,    9, 1326,  492, 1984,  226,\n",
       "        1907, 3194, 1835, 2000, 2108,  700,   33, 3267, 1329, 1284,    7,    7,\n",
       "         709, 2025, 1980,  892, 1252, 2423, 2025, 1625, 1457, 1870,    7, 1206,\n",
       "          52, 1979, 1798,   24,   71,  353,  313, 2106,   10, 1705, 3175, 1280,\n",
       "           7,  973,  968, 1169, 2022,  384,  530, 3395, 1565,  247, 2049,  196,\n",
       "        1642, 1063, 2243,  913,  298,  946, 1049, 2744, 1549,  161, 1263,   53,\n",
       "        1368,   16, 2452,  304,  917, 3127, 1431, 2001,    9,   26,   20, 1559,\n",
       "         762, 1188, 1904,   52,   10, 1061,  262,  182,  226, 3214,  796,  160,\n",
       "        3480,  936,    7,  263,  900, 1431,    7, 1061,  956, 1774, 2858, 2851,\n",
       "         892, 1077,  913,   16,    7, 2372, 1482, 1085, 1136, 1466,  603, 1685,\n",
       "        1484, 1463, 1642,  793,    7, 3382,  161,  913, 1198,  243, 2642, 1775,\n",
       "         820,  759, 1329,    7, 1621,  210, 1738,  793, 2498,  501,  913, 2338,\n",
       "         150, 2437,  312, 1922, 2513, 1924, 1843,  606,  212,  344, 2001, 2640,\n",
       "         161,  632,  263, 3470,  132, 2910, 1364, 1918, 2899, 2600, 1724, 1655,\n",
       "        1019, 1486, 1185,  181, 2957, 2826, 1798, 1924, 1133,  956,    6, 1209,\n",
       "        1133, 1980,  805,  867, 1872,    8, 2542, 1864, 3407, 2725, 2747, 1372,\n",
       "          71, 2529, 2418,  313,  425, 1021, 2414,  703, 2702,  259,  263, 3253,\n",
       "        1133,   37, 1121, 1364, 1102, 3036, 3198, 2358, 1329, 1924,   31, 2901,\n",
       "        1934,  446, 2513, 1121,  123, 1544, 1457,  858,   51, 1904, 1980, 1809,\n",
       "        3159, 1110, 1571,  797, 2200, 2423, 2901, 1004, 1477, 1020,  871, 1840,\n",
       "        1413, 2976, 2000, 1324,  228, 1280, 2681, 1133,  452, 1524, 2625, 2944,\n",
       "        2305, 1509,  200, 3214, 1061, 2536, 3185,   51,    7, 1258, 1583,  867,\n",
       "        1699,  654,  764,  514, 2901, 1463,  468,  754, 1125, 2469, 1206, 1944,\n",
       "         372, 1415,  733, 1969, 1208,  709, 1927, 1162, 1329,  748,  122, 3423,\n",
       "        1879, 1421,  842, 1486, 1077, 1034, 1943,  635, 2725, 1079, 1924,  278,\n",
       "        2727, 1177,    7, 2312,  886,  588, 1043, 1197, 1657, 1133, 1284, 2397,\n",
       "        1482,  129, 1401, 1696, 1456,    7,  751,  607, 1301,   26,   96,  445,\n",
       "        1077, 1583,  179,  891, 1182,   12, 3083, 1268, 3221, 1099, 1133,  539,\n",
       "        1180, 3287, 1699, 1759, 1136, 1614, 1415,  891, 1591,  299, 1748,  324,\n",
       "        2343, 1335, 3127,   42,   53,  530, 1793,   10,  744,  290, 2863, 2014,\n",
       "        1265, 1182, 2361, 1317,  719, 1813,  959,  743, 2305,  241, 1040, 1927,\n",
       "        2921, 2001, 1159,  424, 1793, 2060, 1174, 1627, 1044, 1927,  804, 1270,\n",
       "        1927,  915,  572, 1539, 1012, 1660, 1087,  570, 2571,   16, 1122, 2348,\n",
       "        1058,   42, 2438, 1768,  326, 1682, 2389,  726, 3214, 1024, 1461, 3427,\n",
       "        1626,  969, 2343, 3267, 2312,  247, 2657, 1074,   48,  107, 1898, 1209,\n",
       "        1021, 3129, 3021, 1888, 1783, 2085, 1355,    0, 1544, 1796, 2014,  756,\n",
       "        2870,    9, 1945, 1507, 2182, 1627, 1025, 2642, 1154, 2736,   53, 1466,\n",
       "        2327, 1209, 1447, 1725, 2247,   49, 1719,  797,  236, 1898,  175,   16,\n",
       "        1175, 2909, 1174,  736, 1473,  104, 2838,  884, 1102,  632, 1258,  867,\n",
       "        2208,  310, 3041, 2191, 3214, 2360, 1962,  915, 1583, 1916, 3489, 1705,\n",
       "        3191,  891, 3191, 1091, 1970, 3036, 2420, 1758, 2306, 1475, 2600, 1781,\n",
       "         245, 1848,  546, 2870, 1840, 1100, 1249,  793, 1000, 1063, 1329,  326,\n",
       "        1872,  530, 1065, 1989, 2791, 3095, 2312, 1692, 1457, 1565, 1642, 2442,\n",
       "         131, 2343,  689, 1654, 1748, 2236, 2718, 2296,  770, 1317, 1796, 1025,\n",
       "        1213,  325, 3002,  442, 2233,  856, 3434, 1924, 1136, 1772,  611, 1025,\n",
       "         742, 3192,   59, 1793,  939, 1770, 1804, 3303, 2526, 2200, 2616, 1943,\n",
       "        3001, 1136, 2199, 2272, 2901, 1040, 1655, 3164, 1252, 1716,  680, 1018,\n",
       "         987, 1059, 1743, 1081,   24, 1255, 1927, 1802, 2097, 1446, 3100, 2750,\n",
       "        1157,  161, 2509, 1911, 1127, 2744, 1008, 1087, 2001,  588, 2935,  779,\n",
       "         259, 3162, 1764, 2264,  987, 3365, 2986,   21, 1447, 2825, 1767, 1506,\n",
       "         437, 1127, 3128,   66, 2976, 2300, 2091, 2144, 2858, 1463, 3052, 1355,\n",
       "         977, 2564, 3211, 1061, 1133, 1750,  638,   17, 2619, 1208,   24, 1074,\n",
       "        1829, 1775, 1100, 3148, 1152, 1934,  635, 3423,  203,  970, 2062, 2364,\n",
       "        1090,  533,  821, 2412, 2902,  743,  262, 3396,  547,  344, 2335, 1767,\n",
       "        3031, 3214, 2750,  536,  535, 1843,  911,  308,  254, 2274, 1764, 1173,\n",
       "        1782, 2108, 1133, 1021,    7, 2810,   98, 1123, 2322, 3211, 3083, 1793,\n",
       "         347, 1633, 1913, 2851,  422, 1004, 1125, 1918, 1077,  873, 1004,  603,\n",
       "        1357,  635, 1887, 1768, 1699, 1934, 2739,  422,   91,   52, 1667,   56,\n",
       "         756, 2053, 3336,   81, 1271, 1447, 1463, 2312, 1025, 1209,  743, 3308,\n",
       "         300, 1822,  228,    9, 2500, 1099, 1219, 1174,  554, 1768, 1209, 1068,\n",
       "        2742,  727, 1351, 3214, 3252,  949, 1305,  336, 2078, 1750, 1074, 1909,\n",
       "         100,   87,    7,  741,    9, 2046,   18,  929,  226,    7,   52,    7,\n",
       "        1679, 1145, 2957,  913])"
      ]
     },
     "execution_count": 33,
     "metadata": {},
     "output_type": "execute_result"
    }
   ],
   "source": [
    "num_classes = 1000\n",
    "def process_configs(fname=f\"./logs/stats/16nCr4/all.pth\", proportion=0.5):\n",
    "    all_config_results = torch.load(fname)\n",
    "    num_configs = len(all_config_results[\"preds\"])\n",
    "    preds = all_config_results[\"preds\"].cuda()\n",
    "    targets = all_config_results[\"targets\"].cuda()\n",
    "    class_vs_config_accuracies = torch.zeros(num_classes, num_configs, dtype=float, device=\"cuda\")\n",
    "\n",
    "\n",
    "    TP = preds == targets\n",
    "    TP.cuda()\n",
    "    for class_id in tqdm.notebook.tqdm(range(num_classes)):\n",
    "        class_mask = targets == class_id\n",
    "        class_accuracy = (TP * class_mask).sum(dim=1) / class_mask.sum(dim=1)\n",
    "        class_vs_config_accuracies[class_id] = class_accuracy\n",
    "    return class_vs_config_accuracies.cpu()\n",
    "\n",
    "    \n",
    "class_vs_config_accuracies = process_configs()\n",
    "num_configs = class_vs_config_accuracies.shape[1]"
   ]
  },
  {
   "cell_type": "code",
   "execution_count": null,
   "metadata": {},
   "outputs": [],
   "source": []
  }
 ],
 "metadata": {
  "interpreter": {
   "hash": "57f9f1f826476e66e3381856e5192d6dfc81ca56a9418a5abd450e67bcdb4972"
  },
  "kernelspec": {
   "display_name": "Python 3 (ipykernel)",
   "language": "python",
   "name": "python3"
  },
  "language_info": {
   "codemirror_mode": {
    "name": "ipython",
    "version": 3
   },
   "file_extension": ".py",
   "mimetype": "text/x-python",
   "name": "python",
   "nbconvert_exporter": "python",
   "pygments_lexer": "ipython3",
   "version": "3.9.12"
  }
 },
 "nbformat": 4,
 "nbformat_minor": 2
}
