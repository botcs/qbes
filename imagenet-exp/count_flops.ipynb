{
 "cells": [
  {
   "cell_type": "code",
   "execution_count": 1,
   "id": "a1789a9d",
   "metadata": {},
   "outputs": [],
   "source": [
    "from fc import ptflops\n",
    "from gated_resnet import resnet50\n",
    "import matplotlib.pyplot as plt\n",
    "\n",
    "net = resnet50()\n",
    "flops, params, flops_model = ptflops.flops_counter.get_flops_pytorch(net, (3, 224, 224), print_per_layer_stat=False, flops_units=\"FLOP\")"
   ]
  },
  {
   "cell_type": "code",
   "execution_count": 2,
   "id": "cd6d509f",
   "metadata": {},
   "outputs": [],
   "source": [
    "block_flops = []\n",
    "for layer in [flops_model.__getattr__(f\"layer{i}\") for i in range(1, 5)]:\n",
    "    for block in layer:\n",
    "        block_flops.append(block.accumulate_flops())\n",
    "        "
   ]
  },
  {
   "cell_type": "code",
   "execution_count": 3,
   "id": "6cc3e5f4",
   "metadata": {},
   "outputs": [
    {
     "data": {
      "text/plain": [
       "Text(0, 0.5, 'MAC')"
      ]
     },
     "execution_count": 3,
     "metadata": {},
     "output_type": "execute_result"
    },
    {
     "data": {
      "image/png": "[encoded data removed]",
      "text/plain": [
       "<Figure size 432x288 with 1 Axes>"
      ]
     },
     "metadata": {
      "needs_background": "light"
     },
     "output_type": "display_data"
    }
   ],
   "source": [
    "plt.bar(range(16), block_flops)\n",
    "plt.xlabel(\"block_id\")\n",
    "plt.ylabel(\"MAC\")"
   ]
  },
  {
   "cell_type": "code",
   "execution_count": 4,
   "id": "744ab4f6",
   "metadata": {},
   "outputs": [
    {
     "data": {
      "text/plain": [
       "4121925096"
      ]
     },
     "execution_count": 4,
     "metadata": {},
     "output_type": "execute_result"
    }
   ],
   "source": [
    "net.accumulate_flops()"
   ]
  },
  {
   "cell_type": "code",
   "execution_count": 26,
   "id": "6fed79c1",
   "metadata": {},
   "outputs": [
    {
     "name": "stdout",
     "output_type": "stream",
     "text": [
      "Block   1 MACs: 236429312\n",
      "Block   2 MACs: 221978624\n",
      "Block   3 MACs: 221978624\n",
      "Block   4 MACs: 376018944\n",
      "Block   5 MACs: 220172288\n",
      "Block   6 MACs: 220172288\n",
      "Block   7 MACs: 220172288\n",
      "Block   8 MACs: 374262784\n",
      "Block   9 MACs: 219269120\n",
      "Block  10 MACs: 219269120\n",
      "Block  11 MACs: 219269120\n",
      "Block  12 MACs: 219269120\n",
      "Block  13 MACs: 219269120\n",
      "Block  14 MACs: 373384704\n",
      "Block  15 MACs: 218817536\n",
      "Block  16 MACs: 218817536\n"
     ]
    }
   ],
   "source": [
    "for i in range(16):\n",
    "    print(\"Block\", f\"{i+1:3}\", \"MACs:\", block_flops[i])"
   ]
  },
  {
   "cell_type": "code",
   "execution_count": 27,
   "id": "777ccd3c",
   "metadata": {},
   "outputs": [],
   "source": [
    "from math import comb"
   ]
  },
  {
   "cell_type": "code",
   "execution_count": 34,
   "id": "52aa0a99",
   "metadata": {},
   "outputs": [],
   "source": [
    "total_flops = flops_model.accumulate_flops()\n",
    "avg_block_flops = (221978624 + 219269120 + 218817536) / 3\n",
    "\n",
    "combs_flops = []\n",
    "\n",
    "num_blocks = 16\n",
    "for num_blocks_to_skip in range(num_blocks):\n",
    "    comb_flops = total_flops - num_blocks_to_skip * avg_block_flops\n",
    "    combs_flops.append(comb_flops)"
   ]
  },
  {
   "cell_type": "code",
   "execution_count": 35,
   "id": "42a0d171",
   "metadata": {},
   "outputs": [
    {
     "data": {
      "text/plain": [
       "<BarContainer object of 16 artists>"
      ]
     },
     "execution_count": 35,
     "metadata": {},
     "output_type": "execute_result"
    },
    {
     "data": {
      "image/png": "[encoded data removed]",
      "text/plain": [
       "<Figure size 432x288 with 1 Axes>"
      ]
     },
     "metadata": {
      "needs_background": "light"
     },
     "output_type": "display_data"
    }
   ],
   "source": [
    "plt.bar(range(num_blocks), combs_flops)"
   ]
  },
  {
   "cell_type": "code",
   "execution_count": 40,
   "id": "a139cb89",
   "metadata": {},
   "outputs": [
    {
     "data": {
      "text/plain": [
       "'1 16 120 560 1820 4368 8008 11440 12870 11440 8008 4368 1820 560 120 16 1'"
      ]
     },
     "execution_count": 40,
     "metadata": {},
     "output_type": "execute_result"
    }
   ],
   "source": [
    "\" \".join(map(str, list(comb(16, i) for i in range(17))))"
   ]
  },
  {
   "cell_type": "code",
   "execution_count": null,
   "id": "832fcfa7",
   "metadata": {},
   "outputs": [],
   "source": []
  }
 ],
 "metadata": {
  "kernelspec": {
   "display_name": "Python 3 (ipykernel)",
   "language": "python",
   "name": "python3"
  },
  "language_info": {
   "codemirror_mode": {
    "name": "ipython",
    "version": 3
   },
   "file_extension": ".py",
   "mimetype": "text/x-python",
   "name": "python",
   "nbconvert_exporter": "python",
   "pygments_lexer": "ipython3",
   "version": "3.9.12"
  }
 },
 "nbformat": 4,
 "nbformat_minor": 5
}
