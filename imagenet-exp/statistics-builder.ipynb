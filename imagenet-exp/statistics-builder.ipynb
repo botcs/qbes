{
 "cells": [
  {
   "cell_type": "code",
   "execution_count": 2,
   "metadata": {},
   "outputs": [
    {
     "name": "stdout",
     "output_type": "stream",
     "text": [
      "11: 10000 out of 10000\n",
      "total files found:  10000\n",
      "100%|████████████████████████████████████| 10000/10000 [00:51<00:00, 195.98it/s]\n",
      "18: 10000 out of 10000\n",
      "total files found:  10000\n",
      "100%|████████████████████████████████████| 10000/10000 [00:50<00:00, 197.23it/s]\n",
      "19: 10000 out of 10000\n",
      "total files found:  10000\n",
      "100%|████████████████████████████████████| 10000/10000 [00:47<00:00, 208.56it/s]\n",
      "11: 10000 out of 10000\n",
      "total files found:  10000\n",
      "100%|████████████████████████████████████| 10000/10000 [01:18<00:00, 128.10it/s]\n",
      "18: 10000 out of 10000\n",
      "total files found:  10000\n",
      "100%|████████████████████████████████████| 10000/10000 [01:16<00:00, 130.80it/s]\n",
      "19: 10000 out of 10000\n",
      "total files found:  10000\n",
      "100%|████████████████████████████████████| 10000/10000 [01:09<00:00, 143.23it/s]\n"
     ]
    }
   ],
   "source": [
    "! python concatenate_logs.py 11 18 19"
   ]
  },
  {
   "cell_type": "code",
   "execution_count": 3,
   "metadata": {
    "scrolled": false
   },
   "outputs": [
    {
     "name": "stdout",
     "output_type": "stream",
     "text": [
      "Aggregating validation statistics for K=0\n",
      "EXISTING FILE: notebook-cache/swin/train_stats_k00.pth - skipping...\n",
      "Aggregating validation statistics for K=1\n",
      "EXISTING FILE: notebook-cache/swin/train_stats_k01.pth - skipping...\n",
      "Aggregating validation statistics for K=2\n",
      "EXISTING FILE: notebook-cache/swin/train_stats_k02.pth - skipping...\n",
      "Aggregating validation statistics for K=3\n",
      "EXISTING FILE: notebook-cache/swin/train_stats_k03.pth - skipping...\n",
      "Aggregating validation statistics for K=4\n",
      "EXISTING FILE: notebook-cache/swin/train_stats_k04.pth - skipping...\n",
      "Aggregating validation statistics for K=5\n",
      "EXISTING FILE: notebook-cache/swin/train_stats_k05.pth - skipping...\n",
      "Aggregating validation statistics for K=6\n",
      "EXISTING FILE: notebook-cache/swin/train_stats_k06.pth - skipping...\n",
      "Aggregating validation statistics for K=7\n",
      "EXISTING FILE: notebook-cache/swin/train_stats_k07.pth - skipping...\n",
      "Aggregating validation statistics for K=8\n",
      "EXISTING FILE: notebook-cache/swin/train_stats_k08.pth - skipping...\n",
      "Aggregating validation statistics for K=9\n",
      "EXISTING FILE: notebook-cache/swin/train_stats_k09.pth - skipping...\n",
      "Aggregating validation statistics for K=10\n",
      "EXISTING FILE: notebook-cache/swin/train_stats_k10.pth - skipping...\n",
      "Aggregating validation statistics for K=11\n",
      "store device: cpu\n",
      "compute device: cuda:1\n",
      "100%|███████████████████████████████████████| 1000/1000 [04:11<00:00,  3.97it/s]\n",
      "Aggregating validation statistics for K=12\n",
      "EXISTING FILE: notebook-cache/swin/train_stats_k12.pth - skipping...\n",
      "Aggregating validation statistics for K=13\n",
      "EXISTING FILE: notebook-cache/swin/train_stats_k13.pth - skipping...\n",
      "Aggregating validation statistics for K=14\n",
      "EXISTING FILE: notebook-cache/swin/train_stats_k14.pth - skipping...\n",
      "Aggregating validation statistics for K=15\n",
      "EXISTING FILE: notebook-cache/swin/train_stats_k15.pth - skipping...\n",
      "Aggregating validation statistics for K=16\n",
      "EXISTING FILE: notebook-cache/swin/train_stats_k16.pth - skipping...\n",
      "Aggregating validation statistics for K=17\n",
      "EXISTING FILE: notebook-cache/swin/train_stats_k17.pth - skipping...\n",
      "Aggregating validation statistics for K=18\n",
      "store device: cpu\n",
      "compute device: cuda:1\n",
      "100%|███████████████████████████████████████| 1000/1000 [04:10<00:00,  4.00it/s]\n",
      "Aggregating validation statistics for K=19\n",
      "store device: cpu\n",
      "compute device: cuda:1\n",
      "100%|███████████████████████████████████████| 1000/1000 [04:10<00:00,  4.00it/s]\n",
      "Aggregating validation statistics for K=20\n",
      "EXISTING FILE: notebook-cache/swin/train_stats_k20.pth - skipping...\n",
      "Aggregating validation statistics for K=21\n",
      "EXISTING FILE: notebook-cache/swin/train_stats_k21.pth - skipping...\n",
      "Aggregating validation statistics for K=22\n",
      "EXISTING FILE: notebook-cache/swin/train_stats_k22.pth - skipping...\n",
      "Aggregating validation statistics for K=23\n",
      "EXISTING FILE: notebook-cache/swin/train_stats_k23.pth - skipping...\n",
      "Aggregating validation statistics for K=24\n",
      "EXISTING FILE: notebook-cache/swin/train_stats_k24.pth - skipping...\n",
      "Aggregating validation statistics for K=0\n",
      "EXISTING FILE: notebook-cache/swin/val_stats_k00.pth - skipping...\n",
      "Aggregating validation statistics for K=1\n",
      "EXISTING FILE: notebook-cache/swin/val_stats_k01.pth - skipping...\n",
      "Aggregating validation statistics for K=2\n",
      "EXISTING FILE: notebook-cache/swin/val_stats_k02.pth - skipping...\n",
      "Aggregating validation statistics for K=3\n",
      "EXISTING FILE: notebook-cache/swin/val_stats_k03.pth - skipping...\n",
      "Aggregating validation statistics for K=4\n",
      "EXISTING FILE: notebook-cache/swin/val_stats_k04.pth - skipping...\n",
      "Aggregating validation statistics for K=5\n",
      "EXISTING FILE: notebook-cache/swin/val_stats_k05.pth - skipping...\n",
      "Aggregating validation statistics for K=6\n",
      "EXISTING FILE: notebook-cache/swin/val_stats_k06.pth - skipping...\n",
      "Aggregating validation statistics for K=7\n",
      "EXISTING FILE: notebook-cache/swin/val_stats_k07.pth - skipping...\n",
      "Aggregating validation statistics for K=8\n",
      "EXISTING FILE: notebook-cache/swin/val_stats_k08.pth - skipping...\n",
      "Aggregating validation statistics for K=9\n",
      "EXISTING FILE: notebook-cache/swin/val_stats_k09.pth - skipping...\n",
      "Aggregating validation statistics for K=10\n",
      "EXISTING FILE: notebook-cache/swin/val_stats_k10.pth - skipping...\n",
      "Aggregating validation statistics for K=11\n",
      "store device: cpu\n",
      "compute device: cuda:1\n",
      "100%|███████████████████████████████████████| 1000/1000 [01:18<00:00, 12.75it/s]\n",
      "Aggregating validation statistics for K=12\n",
      "EXISTING FILE: notebook-cache/swin/val_stats_k12.pth - skipping...\n",
      "Aggregating validation statistics for K=13\n",
      "EXISTING FILE: notebook-cache/swin/val_stats_k13.pth - skipping...\n",
      "Aggregating validation statistics for K=14\n",
      "EXISTING FILE: notebook-cache/swin/val_stats_k14.pth - skipping...\n",
      "Aggregating validation statistics for K=15\n",
      "EXISTING FILE: notebook-cache/swin/val_stats_k15.pth - skipping...\n",
      "Aggregating validation statistics for K=16\n",
      "EXISTING FILE: notebook-cache/swin/val_stats_k16.pth - skipping...\n",
      "Aggregating validation statistics for K=17\n",
      "EXISTING FILE: notebook-cache/swin/val_stats_k17.pth - skipping...\n",
      "Aggregating validation statistics for K=18\n",
      "store device: cpu\n",
      "compute device: cuda:1\n",
      "100%|███████████████████████████████████████| 1000/1000 [01:18<00:00, 12.75it/s]\n",
      "Aggregating validation statistics for K=19\n",
      "store device: cpu\n",
      "compute device: cuda:1\n",
      "100%|███████████████████████████████████████| 1000/1000 [01:18<00:00, 12.75it/s]\n",
      "Aggregating validation statistics for K=20\n",
      "EXISTING FILE: notebook-cache/swin/val_stats_k20.pth - skipping...\n",
      "Aggregating validation statistics for K=21\n",
      "EXISTING FILE: notebook-cache/swin/val_stats_k21.pth - skipping...\n",
      "Aggregating validation statistics for K=22\n",
      "EXISTING FILE: notebook-cache/swin/val_stats_k22.pth - skipping...\n",
      "Aggregating validation statistics for K=23\n",
      "EXISTING FILE: notebook-cache/swin/val_stats_k23.pth - skipping...\n",
      "Aggregating validation statistics for K=24\n",
      "EXISTING FILE: notebook-cache/swin/val_stats_k24.pth - skipping...\n"
     ]
    }
   ],
   "source": [
    "! python statistics-builder.py"
   ]
  },
  {
   "cell_type": "code",
   "execution_count": null,
   "metadata": {},
   "outputs": [],
   "source": []
  }
 ],
 "metadata": {
  "interpreter": {
   "hash": "57f9f1f826476e66e3381856e5192d6dfc81ca56a9418a5abd450e67bcdb4972"
  },
  "kernelspec": {
   "display_name": "Python 3 (ipykernel)",
   "language": "python",
   "name": "python3"
  },
  "language_info": {
   "codemirror_mode": {
    "name": "ipython",
    "version": 3
   },
   "file_extension": ".py",
   "mimetype": "text/x-python",
   "name": "python",
   "nbconvert_exporter": "python",
   "pygments_lexer": "ipython3",
   "version": "3.9.12"
  }
 },
 "nbformat": 4,
 "nbformat_minor": 2
}
