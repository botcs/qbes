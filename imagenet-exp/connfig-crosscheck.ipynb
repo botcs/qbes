{
 "cells": [
  {
   "cell_type": "code",
   "execution_count": 69,
   "metadata": {},
   "outputs": [],
   "source": [
    "import torch\n",
    "import json\n",
    "import tqdm\n",
    "import matplotlib.pyplot as plt\n",
    "import math"
   ]
  },
  {
   "cell_type": "code",
   "execution_count": 71,
   "metadata": {},
   "outputs": [],
   "source": [
    "def file_count(root_dir):\n",
    "    import glob\n",
    "    fnames = glob.glob(f\"{root_dir}/[0-9]*.pth\")\n",
    "    return len(fnames)\n",
    "\n",
    "\n",
    "def concatenate_files(root_dir):\n",
    "    import glob\n",
    "    fnames = glob.glob(f\"{root_dir}/[0-9]*.pth\")\n",
    "    print(\"total files found: \", len(fnames))\n",
    "    \n",
    "    fnames = sorted(fnames)\n",
    "    preds = []\n",
    "    targets = []\n",
    "    for fname in tqdm.notebook.tqdm(fnames):\n",
    "        f = torch.load(fname)\n",
    "        p = f[\"preds\"]\n",
    "        t = f[\"targets\"]\n",
    "        preds.append(p)\n",
    "        targets.append(t)\n",
    "\n",
    "    if len(preds) == 0:\n",
    "        return\n",
    "    preds = torch.stack(preds, dim=0)\n",
    "    targets = torch.stack(targets, dim=0)\n",
    "\n",
    "    f = {\n",
    "        \"preds\": preds,\n",
    "        \"targets\": targets\n",
    "    }\n",
    "    torch.save(f, f\"{root_dir}/all.pth\")"
   ]
  },
  {
   "cell_type": "code",
   "execution_count": 91,
   "metadata": {},
   "outputs": [
    {
     "name": "stdout",
     "output_type": "stream",
     "text": [
      "3:  560 out of 560\n",
      "total files found:  560\n"
     ]
    },
    {
     "data": {
      "application/vnd.jupyter.widget-view+json": {
       "model_id": "859d194dce904a2eb2be270f9f4fb76d",
       "version_major": 2,
       "version_minor": 0
      },
      "text/plain": [
       "  0%|          | 0/560 [00:00<?, ?it/s]"
      ]
     },
     "metadata": {},
     "output_type": "display_data"
    },
    {
     "name": "stdout",
     "output_type": "stream",
     "text": [
      "4:  1820 out of 1820\n",
      "total files found:  1820\n"
     ]
    },
    {
     "data": {
      "application/vnd.jupyter.widget-view+json": {
       "model_id": "de5e94fdcf70470bb717f54837333801",
       "version_major": 2,
       "version_minor": 0
      },
      "text/plain": [
       "  0%|          | 0/1820 [00:00<?, ?it/s]"
      ]
     },
     "metadata": {},
     "output_type": "display_data"
    },
    {
     "name": "stdout",
     "output_type": "stream",
     "text": [
      "5:  4368 out of 4368\n",
      "total files found:  4368\n"
     ]
    },
    {
     "data": {
      "application/vnd.jupyter.widget-view+json": {
       "model_id": "c82943beea6941969b7f99af3bf0f2b4",
       "version_major": 2,
       "version_minor": 0
      },
      "text/plain": [
       "  0%|          | 0/4368 [00:00<?, ?it/s]"
      ]
     },
     "metadata": {},
     "output_type": "display_data"
    },
    {
     "name": "stdout",
     "output_type": "stream",
     "text": [
      "6:  8008 out of 8008\n",
      "total files found:  8008\n"
     ]
    },
    {
     "data": {
      "application/vnd.jupyter.widget-view+json": {
       "model_id": "4fd79f4ff22549c1b2157c82959eff7c",
       "version_major": 2,
       "version_minor": 0
      },
      "text/plain": [
       "  0%|          | 0/8008 [00:00<?, ?it/s]"
      ]
     },
     "metadata": {},
     "output_type": "display_data"
    },
    {
     "name": "stdout",
     "output_type": "stream",
     "text": [
      "7:  11440 out of 11440\n",
      "total files found:  11440\n"
     ]
    },
    {
     "data": {
      "application/vnd.jupyter.widget-view+json": {
       "model_id": "646704e19f954267acd144b2e5d73037",
       "version_major": 2,
       "version_minor": 0
      },
      "text/plain": [
       "  0%|          | 0/11440 [00:00<?, ?it/s]"
      ]
     },
     "metadata": {},
     "output_type": "display_data"
    }
   ],
   "source": [
    "for i in [3, 4, 5, 6, 7]:\n",
    "    print(f\"{i}: \", file_count(f\"./logs/stats/16nCr{i}/\"), \"out of\", math.comb(16, i))\n",
    "    concatenate_files(f\"./logs/stats/16nCr{i}/\")"
   ]
  },
  {
   "cell_type": "markdown",
   "metadata": {},
   "source": [
    "## Choose 4"
   ]
  },
  {
   "cell_type": "code",
   "execution_count": 77,
   "metadata": {},
   "outputs": [
    {
     "data": {
      "application/vnd.jupyter.widget-view+json": {
       "model_id": "875469de9e264eeb99896e2752274d1a",
       "version_major": 2,
       "version_minor": 0
      },
      "text/plain": [
       "  0%|          | 0/1000 [00:00<?, ?it/s]"
      ]
     },
     "metadata": {},
     "output_type": "display_data"
    }
   ],
   "source": [
    "# def process_configs_slow(fname):\n",
    "    \n",
    "#     def process_config(preds, targets):\n",
    "#         class_accuracies = torch.zeros(\n",
    "#             num_classes, dtype=float\n",
    "#         )\n",
    "#         TP = preds == targets\n",
    "#         for class_id in range(num_classes):\n",
    "#             class_mask = targets == class_id\n",
    "#             class_accuracy = (TP[class_mask]).sum() / max(class_mask.sum(), 1)\n",
    "#             class_accuracies[class_id] = class_accuracy\n",
    "\n",
    "#         return class_accuracies\n",
    "    \n",
    "#     all_config_results = torch.load(fname)\n",
    "#     num_configs = len(all_config_results[\"preds\"])\n",
    "#     preds = all_config_results[\"preds\"].cuda()\n",
    "#     targets = all_config_results[\"targets\"].cuda()\n",
    "#     class_vs_config_accuracies = torch.zeros(num_classes, num_configs, dtype=float, device=\"cuda\")\n",
    "#     # WITHOUT VECTORIZATION THIS IS SLOWER:\n",
    "#     for config_id in tqdm.notebook.tqdm(range(num_configs)):\n",
    "#         try:\n",
    "#             p, t = preds[config_id], targets[config_id]\n",
    "#             class_accuracies = process_config(p, t)\n",
    "#             class_vs_config_accuracies[:, config_id] = class_accuracies\n",
    "#         except FileNotFoundError:\n",
    "#             print(\"missing\", fname)\n",
    "#             pass\n",
    "#     return class_vs_config_accuracies.cpu()\n",
    "# class_vs_config_accuracies_slow = process_configs_slow(\"./logs/stats/16nCr3/all.pth\")\n",
    "\n",
    "\n",
    "num_classes = 1000\n",
    "def process_configs(fname):\n",
    "    all_config_results = torch.load(fname)\n",
    "    num_configs = len(all_config_results[\"preds\"])\n",
    "    preds = all_config_results[\"preds\"].cuda()\n",
    "    targets = all_config_results[\"targets\"].cuda()\n",
    "    class_vs_config_accuracies = torch.zeros(num_classes, num_configs, dtype=float, device=\"cuda\")\n",
    "\n",
    "\n",
    "    TP = preds == targets\n",
    "    TP.cuda()\n",
    "    for class_id in tqdm.notebook.tqdm(range(num_classes)):\n",
    "        class_mask = targets == class_id\n",
    "        class_accuracy = (TP * class_mask).sum(dim=1) / class_mask.sum(dim=1)\n",
    "        class_vs_config_accuracies[class_id] = class_accuracy\n",
    "    return class_vs_config_accuracies.cpu()\n",
    "\n",
    "    \n",
    "class_vs_config_accuracies = process_configs(\"./logs/stats/16nCr3/all.pth\")\n",
    "num_configs = class_vs_config_accuracies.shape[1]"
   ]
  },
  {
   "cell_type": "code",
   "execution_count": 244,
   "metadata": {},
   "outputs": [
    {
     "name": "stdout",
     "output_type": "stream",
     "text": [
      "3:  560 out of 560\n"
     ]
    },
    {
     "data": {
      "application/vnd.jupyter.widget-view+json": {
       "model_id": "753ba11b4a5a4ef58a4b8ee866eed946",
       "version_major": 2,
       "version_minor": 0
      },
      "text/plain": [
       "  0%|          | 0/1000 [00:00<?, ?it/s]"
      ]
     },
     "metadata": {},
     "output_type": "display_data"
    },
    {
     "name": "stdout",
     "output_type": "stream",
     "text": [
      "4:  1820 out of 1820\n"
     ]
    },
    {
     "data": {
      "application/vnd.jupyter.widget-view+json": {
       "model_id": "42541e13e7494ce6923adc866ae5d9e0",
       "version_major": 2,
       "version_minor": 0
      },
      "text/plain": [
       "  0%|          | 0/1000 [00:00<?, ?it/s]"
      ]
     },
     "metadata": {},
     "output_type": "display_data"
    },
    {
     "name": "stdout",
     "output_type": "stream",
     "text": [
      "5:  4368 out of 4368\n"
     ]
    },
    {
     "data": {
      "application/vnd.jupyter.widget-view+json": {
       "model_id": "4796f73db43342548b2b8f0fe830515a",
       "version_major": 2,
       "version_minor": 0
      },
      "text/plain": [
       "  0%|          | 0/1000 [00:00<?, ?it/s]"
      ]
     },
     "metadata": {},
     "output_type": "display_data"
    },
    {
     "name": "stdout",
     "output_type": "stream",
     "text": [
      "6:  8008 out of 8008\n"
     ]
    },
    {
     "data": {
      "application/vnd.jupyter.widget-view+json": {
       "model_id": "8598d5fac3a7467c9a5ad2f731b8e10f",
       "version_major": 2,
       "version_minor": 0
      },
      "text/plain": [
       "  0%|          | 0/1000 [00:00<?, ?it/s]"
      ]
     },
     "metadata": {},
     "output_type": "display_data"
    },
    {
     "name": "stdout",
     "output_type": "stream",
     "text": [
      "7:  11440 out of 11440\n"
     ]
    },
    {
     "data": {
      "application/vnd.jupyter.widget-view+json": {
       "model_id": "4c7df463e76348e090c4d0d1350fd95a",
       "version_major": 2,
       "version_minor": 0
      },
      "text/plain": [
       "  0%|          | 0/1000 [00:00<?, ?it/s]"
      ]
     },
     "metadata": {},
     "output_type": "display_data"
    }
   ],
   "source": [
    "for i in [3, 4, 5, 6, 7]:\n",
    "    print(f\"{i}: \", file_count(f\"./logs/stats/16nCr{i}/\"), \"out of\", math.comb(16, i))\n",
    "    class_vs_config_accuracies = process_configs(f\"./logs/stats/16nCr{i}/all.pth\")\n",
    "    torch.save(class_vs_config_accuracies, f\"class_vs_config_accuracies_16nCr{i}.pth\")"
   ]
  },
  {
   "cell_type": "code",
   "execution_count": 80,
   "metadata": {},
   "outputs": [
    {
     "data": {
      "text/plain": [
       "tensor(0.8841, dtype=torch.float64)"
      ]
     },
     "execution_count": 80,
     "metadata": {},
     "output_type": "execute_result"
    }
   ],
   "source": [
    "class_vs_config_accuracies.max(dim=1).values.mean()"
   ]
  },
  {
   "cell_type": "code",
   "execution_count": 79,
   "metadata": {},
   "outputs": [
    {
     "data": {
      "text/plain": [
       "Text(0, 0.5, 'num of best performing classes')"
      ]
     },
     "execution_count": 79,
     "metadata": {},
     "output_type": "execute_result"
    },
    {
     "data": {
      "image/png": "[encoded data removed]",
      "text/plain": [
       "<Figure size 504x360 with 1 Axes>"
      ]
     },
     "metadata": {
      "needs_background": "light"
     },
     "output_type": "display_data"
    }
   ],
   "source": [
    "plt.figure(figsize=[7, 5])\n",
    "plt.hist(class_vs_config_accuracies.argmax(dim=1).numpy(), num_configs, histtype=\"step\")\n",
    "plt.title(\"Counting how many classes perform the best under a certain config\")\n",
    "plt.xlabel(\"config_id\")\n",
    "plt.ylabel(\"num of best performing classes\")"
   ]
  },
  {
   "cell_type": "code",
   "execution_count": 109,
   "metadata": {},
   "outputs": [
    {
     "data": {
      "text/plain": [
       "Text(0, 0.5, 'num of worst performing classes')"
      ]
     },
     "execution_count": 109,
     "metadata": {},
     "output_type": "execute_result"
    },
    {
     "data": {
      "image/png": "[encoded data removed]",
      "text/plain": [
       "<Figure size 504x360 with 1 Axes>"
      ]
     },
     "metadata": {
      "needs_background": "light"
     },
     "output_type": "display_data"
    }
   ],
   "source": [
    "plt.figure(figsize=[7, 5])\n",
    "plt.hist(class_vs_config_accuracies.argmin(dim=1).numpy(), num_configs, histtype=\"step\")\n",
    "plt.title(\"Counting how many classes perform the worst under a certain config\")\n",
    "plt.xlabel(\"config_id\")\n",
    "plt.ylabel(\"num of worst performing classes\")"
   ]
  },
  {
   "cell_type": "markdown",
   "metadata": {},
   "source": [
    "## Choose 7"
   ]
  },
  {
   "cell_type": "code",
   "execution_count": 152,
   "metadata": {},
   "outputs": [
    {
     "data": {
      "application/vnd.jupyter.widget-view+json": {
       "model_id": "33662abfde2e44d380ac705f86bb8af7",
       "version_major": 2,
       "version_minor": 0
      },
      "text/plain": [
       "  0%|          | 0/1000 [00:00<?, ?it/s]"
      ]
     },
     "metadata": {},
     "output_type": "display_data"
    }
   ],
   "source": [
    "class_vs_config_accuracies = process_configs(\"logs/stats/16nCr7/all.pth\")\n",
    "num_configs = class_vs_config_accuracies.shape[1]"
   ]
  },
  {
   "cell_type": "code",
   "execution_count": 153,
   "metadata": {},
   "outputs": [
    {
     "data": {
      "text/plain": [
       "tensor(0.9404, dtype=torch.float64)"
      ]
     },
     "execution_count": 153,
     "metadata": {},
     "output_type": "execute_result"
    }
   ],
   "source": [
    "class_vs_config_accuracies.max(dim=1).values.mean()"
   ]
  },
  {
   "cell_type": "code",
   "execution_count": 157,
   "metadata": {},
   "outputs": [
    {
     "data": {
      "text/plain": [
       "Text(0, 0.5, 'num of best performing classes')"
      ]
     },
     "execution_count": 157,
     "metadata": {},
     "output_type": "execute_result"
    },
    {
     "data": {
      "image/png": "[encoded data removed]",
      "text/plain": [
       "<Figure size 504x360 with 1 Axes>"
      ]
     },
     "metadata": {
      "needs_background": "light"
     },
     "output_type": "display_data"
    }
   ],
   "source": [
    "plt.figure(figsize=[7, 5])\n",
    "plt.hist(class_vs_config_accuracies.argmax(dim=1).numpy(), num_configs, histtype=\"step\")\n",
    "plt.title(\"Counting how many classes perform the best under a certain config (16 nCr 7)\")\n",
    "plt.xlabel(\"config_id\")\n",
    "plt.ylabel(\"num of best performing classes\")"
   ]
  },
  {
   "cell_type": "code",
   "execution_count": 155,
   "metadata": {},
   "outputs": [
    {
     "data": {
      "text/plain": [
       "Text(0, 0.5, 'num of worst performing classes')"
      ]
     },
     "execution_count": 155,
     "metadata": {},
     "output_type": "execute_result"
    },
    {
     "data": {
      "image/png": "[encoded data removed]",
      "text/plain": [
       "<Figure size 504x360 with 1 Axes>"
      ]
     },
     "metadata": {
      "needs_background": "light"
     },
     "output_type": "display_data"
    }
   ],
   "source": [
    "plt.figure(figsize=[7, 5])\n",
    "plt.hist(class_vs_config_accuracies.argmin(dim=1).numpy(), num_configs, histtype=\"step\")\n",
    "plt.title(\"Counting how many classes perform the worst under a certain config (16 nCr 7)\")\n",
    "plt.xlabel(\"config_id\")\n",
    "plt.ylabel(\"num of worst performing classes\")"
   ]
  },
  {
   "cell_type": "markdown",
   "metadata": {},
   "source": [
    "## Find optimal architecture on Val1 and test on Val2"
   ]
  },
  {
   "cell_type": "code",
   "execution_count": 84,
   "metadata": {},
   "outputs": [],
   "source": [
    "x = torch.load(f\"./logs/stats/16nCr3/all.pth\")\n",
    "preds = x[\"preds\"]\n",
    "targets = x[\"targets\"]"
   ]
  },
  {
   "cell_type": "code",
   "execution_count": 107,
   "metadata": {},
   "outputs": [
    {
     "data": {
      "application/vnd.jupyter.widget-view+json": {
       "model_id": "ab33067e96774471aca1ae06c8fb67a7",
       "version_major": 2,
       "version_minor": 0
      },
      "text/plain": [
       "  0%|          | 0/1000 [00:00<?, ?it/s]"
      ]
     },
     "metadata": {},
     "output_type": "display_data"
    },
    {
     "data": {
      "text/plain": [
       "tensor([0.5600, 0.7200, 0.7200, 0.5400, 0.8200, 0.7400, 0.4400, 0.4000, 0.6400,\n",
       "        0.7600, 0.4400, 0.8600, 0.3800, 0.5600, 0.6600, 0.3600, 0.5000, 0.5400,\n",
       "        0.6600, 0.5800, 0.6000, 0.5800, 0.7800, 0.6800, 0.5600, 0.6400, 0.5600,\n",
       "        0.4400, 0.4200, 0.7200, 0.6600, 0.7000, 0.1600, 0.5200, 0.5400, 0.3400,\n",
       "        0.5200, 0.5200, 0.4600, 0.3400, 0.4400, 0.6800, 0.4800, 0.1600, 0.4400,\n",
       "        0.6800, 0.5200, 0.4800, 0.6600, 0.4200, 0.3400, 0.5200, 0.6400, 0.7000,\n",
       "        0.4600, 0.8000, 0.7600, 0.7600, 0.5400, 0.5000, 0.5200, 0.5800, 0.3000,\n",
       "        0.7200, 0.4200, 0.5800, 0.4600, 0.3800, 0.3800, 0.6000, 0.8400, 0.8600,\n",
       "        0.6400, 0.3000, 0.3800, 0.7800, 0.6800, 0.5400, 0.7600, 0.5800, 0.7000,\n",
       "        0.5200, 0.3600, 0.7200, 0.6800, 0.6200, 0.5600, 0.8000, 0.7400, 0.8000,\n",
       "        0.7200, 0.5200, 0.7800, 0.8200, 0.6800, 0.3400, 0.9000, 0.7800, 0.8800,\n",
       "        0.7600, 0.7800, 0.2400, 0.8200, 0.5600, 0.3600, 0.2800, 0.3600, 0.8600,\n",
       "        0.6000, 0.8000, 0.7000, 0.8200, 0.6400, 0.6800, 0.7000, 0.8600, 0.5200,\n",
       "        0.7400, 0.5200, 0.5000, 0.5200, 0.3600, 0.6000, 0.5000, 0.3200, 0.7000,\n",
       "        0.5400, 0.7800, 0.6600, 0.9000, 0.9200, 0.5400, 0.8800, 0.5400, 0.6200,\n",
       "        0.7800, 0.5200, 0.6200, 0.6600, 0.7400, 0.7000, 0.6600, 0.5000, 0.8600,\n",
       "        0.7400, 0.8400, 0.8200, 0.8400, 0.9000, 0.8200, 0.6400, 0.5800, 0.8000,\n",
       "        0.7000, 0.5000, 0.6400, 0.6400, 0.8600, 0.3400, 0.4000, 0.5000, 0.7400,\n",
       "        0.7400, 0.2800, 0.7200, 0.4800, 0.5200, 0.3000, 0.4000, 0.7800, 0.3000,\n",
       "        0.7200, 0.6400, 0.4600, 0.3000, 0.4400, 0.4000, 0.4400, 0.8000, 0.3400,\n",
       "        0.1800, 0.7000, 0.6600, 0.5800, 0.5000, 0.6600, 0.6800, 0.3200, 0.2400,\n",
       "        0.4000, 0.8600, 0.3800, 0.6200, 0.2000, 0.6400, 0.7800, 0.3200, 0.6400,\n",
       "        0.4000, 0.7200, 0.4000, 0.6400, 0.5400, 0.7800, 0.3000, 0.5000, 0.5200,\n",
       "        0.3800, 0.4400, 0.2400, 0.3600, 0.3800, 0.5600, 0.4000, 0.4800, 0.4600,\n",
       "        0.6600, 0.5800, 0.4800, 0.5400, 0.4800, 0.2200, 0.6600, 0.6800, 0.4600,\n",
       "        0.4600, 0.3800, 0.6000, 0.8400, 0.7800, 0.3600, 0.5600, 0.6200, 0.5000,\n",
       "        0.6400, 0.5200, 0.4200, 0.4000, 0.4800, 0.6400, 0.2800, 0.5400, 0.4600,\n",
       "        0.3000, 0.2600, 0.6600, 0.4000, 0.7200, 0.4000, 0.4200, 0.5000, 0.7000,\n",
       "        0.4800, 0.8400, 0.8000, 0.7800, 0.5000, 0.6800, 0.8800, 0.7200, 0.5000,\n",
       "        0.5200, 0.3800, 0.5600, 0.6400, 0.5000, 0.1400, 0.5800, 0.5800, 0.3600,\n",
       "        0.8600, 0.3000, 0.3200, 0.5200, 0.5600, 0.7000, 0.5800, 0.2600, 0.3600,\n",
       "        0.9000, 0.2200, 0.1800, 0.1200, 0.7400, 0.6800, 0.2800, 0.4000, 0.2200,\n",
       "        0.6200, 0.5600, 0.6600, 0.6400, 0.4000, 0.8000, 0.8000, 0.4600, 0.8000,\n",
       "        0.5000, 0.3400, 0.5600, 0.6600, 0.7400, 0.5800, 0.5000, 0.7800, 0.6800,\n",
       "        0.5800, 0.7000, 0.7200, 0.5800, 0.4800, 0.5400, 0.3000, 0.5200, 0.6000,\n",
       "        0.5400, 0.5800, 0.8800, 0.7800, 0.5600, 0.7400, 0.6600, 0.5600, 0.6000,\n",
       "        0.7200, 0.7400, 0.7600, 0.7600, 0.8200, 0.3800, 0.2400, 0.7600, 0.9400,\n",
       "        0.8000, 0.8200, 0.4000, 0.5200, 0.5000, 0.4600, 0.8200, 0.8400, 0.3400,\n",
       "        0.5200, 0.5400, 0.5800, 0.3000, 0.4000, 0.6800, 0.2600, 0.4000, 0.5400,\n",
       "        0.7800, 0.3800, 0.7000, 0.6200, 0.5000, 0.3600, 0.5800, 0.3800, 0.5200,\n",
       "        0.4000, 0.7600, 0.6800, 0.4600, 0.5800, 0.6000, 0.4000, 0.5000, 0.5400,\n",
       "        0.3600, 0.4400, 0.4400, 0.8000, 0.2600, 0.4600, 0.5200, 0.6600, 0.4400,\n",
       "        0.6200, 0.5200, 0.2400, 0.2400, 0.4200, 0.5000, 0.4400, 0.5200, 0.6600,\n",
       "        0.6400, 0.8200, 0.4200, 0.5000, 0.7200, 0.9000, 0.5000, 0.7200, 0.3400,\n",
       "        0.8200, 0.7400, 0.7400, 0.6000, 0.2400, 0.7000, 0.5400, 0.6200, 0.9400,\n",
       "        0.8000, 0.2600, 0.7800, 0.5400, 0.6600, 0.4600, 0.7000, 0.6200, 0.1800,\n",
       "        0.3600, 0.1600, 0.8400, 0.8200, 0.4800, 0.8400, 0.3800, 0.6000, 0.4800,\n",
       "        0.3400, 0.5800, 0.8600, 0.6200, 0.5800, 0.4200, 0.7200, 0.8200, 0.6800,\n",
       "        0.4800, 0.7200, 0.6400, 0.4200, 0.4000, 0.6600, 0.4600, 0.5600, 0.5200,\n",
       "        0.5000, 0.4200, 0.7400, 0.3600, 0.2400, 0.4800, 0.5400, 0.3600, 0.4400,\n",
       "        0.7800, 0.7000, 0.5400, 0.3600, 0.2000, 0.5400, 0.5000, 0.7400, 0.6200,\n",
       "        0.7400, 0.5000, 0.4000, 0.5400, 0.4600, 0.3800, 0.4200, 0.8800, 0.6000,\n",
       "        0.7600, 0.4600, 0.5000, 0.6000, 0.8800, 0.7400, 0.4000, 0.9000, 0.7800,\n",
       "        0.4400, 0.4200, 0.5200, 0.5400, 0.4800, 0.4400, 0.3000, 0.4600, 0.3200,\n",
       "        0.5000, 0.6600, 0.3000, 0.6600, 0.5600, 0.7400, 0.6400, 0.2000, 0.3400,\n",
       "        0.4400, 0.7400, 0.7000, 0.4200, 0.3800, 0.6600, 0.3600, 0.5600, 0.4600,\n",
       "        0.2200, 0.4400, 0.7400, 0.5200, 0.5600, 0.3200, 0.6400, 0.5000, 0.6200,\n",
       "        0.6000, 0.5400, 0.6800, 0.2600, 0.7200, 0.9200, 0.4400, 0.5800, 0.5400,\n",
       "        0.6400, 0.2400, 0.2000, 0.6000, 0.1000, 0.3600, 0.7400, 0.4200, 0.6800,\n",
       "        0.2400, 0.5200, 0.7800, 0.4600, 0.5600, 0.4400, 0.6800, 0.7800, 0.5400,\n",
       "        0.6200, 0.3000, 0.6400, 0.4800, 0.4800, 0.8200, 0.4800, 0.5000, 0.6000,\n",
       "        0.5600, 0.5400, 0.7000, 0.7600, 0.6800, 0.7000, 0.8000, 0.5400, 0.7800,\n",
       "        0.0800, 0.7000, 0.8600, 0.5800, 0.8600, 0.6600, 0.5200, 0.9600, 0.6000,\n",
       "        0.4200, 0.5600, 0.8000, 0.8600, 0.4600, 0.4800, 0.7200, 0.9200, 0.6000,\n",
       "        0.5600, 0.8200, 0.5000, 0.6400, 0.6800, 0.8800, 0.4800, 0.6000, 0.4800,\n",
       "        0.4400, 0.6200, 0.5800, 0.7600, 0.5800, 0.3200, 0.7400, 0.6200, 0.4400,\n",
       "        0.4800, 0.6600, 0.3600, 0.4200, 0.3000, 0.9200, 0.3800, 0.4000, 0.6600,\n",
       "        0.3600, 0.8600, 0.7800, 0.8000, 0.8600, 0.4800, 0.4800, 0.6400, 0.5800,\n",
       "        0.5400, 0.7200, 0.7400, 0.7000, 0.7800, 0.6600, 0.3000, 0.8200, 0.3600,\n",
       "        0.7000, 0.5800, 0.2200, 0.2800, 0.8800, 0.4800, 0.6200, 0.7000, 0.6600,\n",
       "        0.7600, 0.5400, 0.6000, 0.2000, 0.4400, 0.4200, 0.6600, 0.7000, 0.3000,\n",
       "        0.5400, 0.8800, 0.6600, 0.4800, 0.5200, 0.7800, 0.5200, 0.7600, 0.5200,\n",
       "        0.4400, 0.7400, 0.5200, 0.4800, 0.4000, 0.4600, 0.7600, 0.6000, 0.4200,\n",
       "        0.5200, 0.3400, 0.7400, 0.3400, 0.5800, 0.5000, 0.2400, 0.2800, 0.4000,\n",
       "        0.7200, 0.4600, 0.6000, 0.8400, 0.5800, 0.2200, 0.7000, 0.4200, 0.5600,\n",
       "        0.3200, 0.3200, 0.5000, 0.3000, 0.8200, 0.6600, 0.1400, 0.5800, 0.5000,\n",
       "        0.6800, 0.9200, 0.4600, 0.7800, 0.8800, 0.0600, 0.1200, 0.4200, 0.3600,\n",
       "        0.6800, 0.8000, 0.6800, 0.4800, 0.3800, 0.4800, 0.5400, 0.5000, 0.9000,\n",
       "        0.5200, 0.7000, 0.8000, 0.4400, 0.2600, 0.7600, 0.5200, 0.8200, 0.3200,\n",
       "        0.6200, 0.6000, 0.9200, 0.6800, 0.3600, 0.7600, 0.4200, 0.5400, 0.8400,\n",
       "        0.6200, 0.9400, 0.8600, 0.5000, 0.6200, 0.5600, 0.7400, 0.8800, 0.3800,\n",
       "        0.3600, 0.6000, 0.4600, 0.7600, 0.4600, 0.7400, 0.4400, 0.6000, 0.6800,\n",
       "        0.7200, 0.7000, 0.3000, 0.7800, 0.4400, 0.4800, 0.0600, 0.5600, 0.8800,\n",
       "        0.5600, 0.5200, 0.7200, 0.7000, 0.5400, 0.7400, 0.7200, 0.7600, 0.8000,\n",
       "        0.5600, 0.7000, 0.4200, 0.7400, 0.6200, 0.6400, 0.3000, 0.8000, 0.4200,\n",
       "        0.5000, 0.4800, 0.4000, 0.7600, 0.6000, 0.8200, 0.6600, 0.6400, 0.5200,\n",
       "        0.6400, 0.3400, 0.5000, 0.6200, 0.5000, 0.8800, 0.7000, 0.7400, 0.4200,\n",
       "        0.9000, 0.2200, 0.7600, 0.6800, 0.3400, 0.6600, 0.6600, 0.4400, 0.4400,\n",
       "        0.6200, 0.5400, 0.8200, 0.8400, 0.6800, 0.5800, 0.4400, 0.4000, 0.7400,\n",
       "        0.6200, 0.7600, 0.7800, 0.3400, 0.9000, 0.5400, 0.6000, 0.4800, 0.4800,\n",
       "        0.1000, 0.4800, 0.8400, 0.2200, 0.8600, 0.7800, 0.6600, 0.5000, 0.5000,\n",
       "        0.6800, 0.7000, 0.7400, 0.6600, 0.6200, 0.4800, 0.5200, 0.3800, 0.2000,\n",
       "        0.6800, 0.6800, 0.3400, 0.8400, 0.6600, 0.6000, 0.6800, 0.4200, 0.3200,\n",
       "        0.4000, 0.3400, 0.4200, 0.7400, 0.2200, 0.4400, 0.4600, 0.7000, 0.5600,\n",
       "        0.2600, 0.6600, 0.1800, 0.7800, 0.7200, 0.5400, 0.8200, 0.4600, 0.6800,\n",
       "        0.6200, 0.5800, 0.5000, 0.6400, 0.6800, 0.2200, 0.5200, 0.3600, 0.5000,\n",
       "        0.3400, 0.4400, 0.6400, 0.8400, 0.4400, 0.4800, 0.6000, 0.8600, 0.5000,\n",
       "        0.7800, 0.7200, 0.3800, 0.4200, 0.6000, 0.8200, 0.6600, 0.6000, 0.3800,\n",
       "        0.7000, 0.3200, 0.7800, 0.1600, 0.8600, 0.2200, 0.6800, 0.5600, 0.9200,\n",
       "        0.3800, 0.5000, 0.6400, 0.5400, 0.7000, 0.7800, 0.8600, 0.4600, 0.1800,\n",
       "        0.8600, 0.5600, 0.7400, 0.7800, 0.8600, 0.4000, 0.3400, 0.6200, 0.6200,\n",
       "        0.5000, 0.5200, 0.4000, 0.4800, 0.6000, 0.7200, 0.8200, 0.9400, 0.3600,\n",
       "        0.7200, 0.6600, 0.7400, 0.7600, 0.6000, 0.1800, 0.4400, 0.5600, 0.1000,\n",
       "        0.6000, 0.4600, 0.5000, 0.5200, 0.2600, 0.3800, 0.8200, 0.6000, 0.6600,\n",
       "        0.8600, 0.7800, 0.8600, 0.4200, 0.5800, 0.5200, 0.6000, 0.7800, 0.5800,\n",
       "        0.5600, 0.8600, 0.3600, 0.8800, 0.5000, 0.6200, 0.8400, 0.7800, 0.4600,\n",
       "        0.7200, 0.8600, 0.8400, 0.7400, 0.7200, 0.5800, 0.4600, 0.3600, 0.4200,\n",
       "        0.6200, 0.3600, 0.6400, 0.6200, 0.3800, 0.5400, 0.3600, 0.4800, 0.8400,\n",
       "        0.5200, 0.7600, 0.9000, 0.3400, 0.4800, 0.5000, 0.4600, 0.7200, 0.7600,\n",
       "        0.7400, 0.6200, 0.8200, 0.9400, 0.9400, 0.9600, 0.4200, 0.7800, 0.4800,\n",
       "        0.7000, 0.7600, 0.4400, 0.4000, 0.5600, 0.9600, 0.3600, 0.2600, 0.3600,\n",
       "        0.5400], device='cuda:0', dtype=torch.float64)"
      ]
     },
     "execution_count": 107,
     "metadata": {},
     "output_type": "execute_result"
    }
   ],
   "source": [
    "accuracy(preds[0], targets[0])"
   ]
  },
  {
   "cell_type": "code",
   "execution_count": 129,
   "metadata": {},
   "outputs": [],
   "source": [
    "num_classes = 1000\n",
    "def process_configs_trainval(fname, train_val_proportion=0.5):\n",
    "    all_config_results = torch.load(fname)\n",
    "    num_configs = len(all_config_results[\"preds\"])\n",
    "    preds = all_config_results[\"preds\"].cuda()\n",
    "    targets = all_config_results[\"targets\"].cuda()\n",
    "    \n",
    "    \n",
    "    train_size = int(preds.shape[1] * train_val_proportion)\n",
    "    train_preds = preds[:, :train_size]\n",
    "    train_targets = targets[:, :train_size]\n",
    "    \n",
    "    # TRAIN\n",
    "    train_class_vs_config_accuracies = torch.zeros(num_classes, num_configs, dtype=float, device=\"cuda\")\n",
    "    TP = train_preds == train_targets\n",
    "    TP.cuda()\n",
    "    for class_id in tqdm.notebook.tqdm(range(num_classes)):\n",
    "        class_mask = train_targets == class_id\n",
    "        class_accuracy = (TP * class_mask).sum(dim=1) / class_mask.sum(dim=1)\n",
    "        train_class_vs_config_accuracies[class_id] = class_accuracy\n",
    "    \n",
    "    best_config_per_class = train_class_vs_config_accuracies.argmax(dim=1)\n",
    "    \n",
    "    def class_accuracy(preds, targets, class_id):\n",
    "        TP = preds == targets\n",
    "        class_mask = targets == class_id\n",
    "        accuracy = (TP * class_mask).sum() / max(class_mask.sum(), 1)\n",
    "#         accuracy = (TP * class_mask).sum() / class_mask.sum()\n",
    "\n",
    "\n",
    "        return accuracy\n",
    "    \n",
    "    \n",
    "    val_preds = preds[:, train_size:]\n",
    "    val_targets = targets[:, train_size:]\n",
    "    val_accuracies = torch.zeros(num_classes, dtype=float, device=\"cuda\")\n",
    "    for class_id in range(num_classes):\n",
    "        val_accuracies[class_id] = class_accuracy(\n",
    "            val_preds[best_config_per_class[class_id]],\n",
    "            val_targets[best_config_per_class[class_id]],\n",
    "            class_id\n",
    "        )\n",
    "    return val_accuracies"
   ]
  },
  {
   "cell_type": "code",
   "execution_count": 130,
   "metadata": {},
   "outputs": [
    {
     "data": {
      "application/vnd.jupyter.widget-view+json": {
       "model_id": "0b3a0b77e5d34988a5dba16d9bf9cf02",
       "version_major": 2,
       "version_minor": 0
      },
      "text/plain": [
       "  0%|          | 0/20 [00:00<?, ?it/s]"
      ]
     },
     "metadata": {},
     "output_type": "display_data"
    },
    {
     "data": {
      "application/vnd.jupyter.widget-view+json": {
       "model_id": "f968b70a7f3e4ce5869c568ba3213133",
       "version_major": 2,
       "version_minor": 0
      },
      "text/plain": [
       "  0%|          | 0/1000 [00:00<?, ?it/s]"
      ]
     },
     "metadata": {},
     "output_type": "display_data"
    },
    {
     "data": {
      "application/vnd.jupyter.widget-view+json": {
       "model_id": "c25c325cf7c14c09855595380c7c866c",
       "version_major": 2,
       "version_minor": 0
      },
      "text/plain": [
       "  0%|          | 0/1000 [00:00<?, ?it/s]"
      ]
     },
     "metadata": {},
     "output_type": "display_data"
    },
    {
     "data": {
      "application/vnd.jupyter.widget-view+json": {
       "model_id": "9e24733042424972adfeeb8b0b0279c6",
       "version_major": 2,
       "version_minor": 0
      },
      "text/plain": [
       "  0%|          | 0/1000 [00:00<?, ?it/s]"
      ]
     },
     "metadata": {},
     "output_type": "display_data"
    },
    {
     "data": {
      "application/vnd.jupyter.widget-view+json": {
       "model_id": "98f72111ff2b4740921a95078fc71256",
       "version_major": 2,
       "version_minor": 0
      },
      "text/plain": [
       "  0%|          | 0/1000 [00:00<?, ?it/s]"
      ]
     },
     "metadata": {},
     "output_type": "display_data"
    },
    {
     "data": {
      "application/vnd.jupyter.widget-view+json": {
       "model_id": "7f9e757e8f3c4a24951cde02a1658941",
       "version_major": 2,
       "version_minor": 0
      },
      "text/plain": [
       "  0%|          | 0/1000 [00:00<?, ?it/s]"
      ]
     },
     "metadata": {},
     "output_type": "display_data"
    },
    {
     "data": {
      "application/vnd.jupyter.widget-view+json": {
       "model_id": "3f276f91badb4815a7fbafdcc786a0f7",
       "version_major": 2,
       "version_minor": 0
      },
      "text/plain": [
       "  0%|          | 0/1000 [00:00<?, ?it/s]"
      ]
     },
     "metadata": {},
     "output_type": "display_data"
    },
    {
     "data": {
      "application/vnd.jupyter.widget-view+json": {
       "model_id": "a97dd1ed12754253abd836e1c890150f",
       "version_major": 2,
       "version_minor": 0
      },
      "text/plain": [
       "  0%|          | 0/1000 [00:00<?, ?it/s]"
      ]
     },
     "metadata": {},
     "output_type": "display_data"
    },
    {
     "data": {
      "application/vnd.jupyter.widget-view+json": {
       "model_id": "7a6c3a87acf14f3bb8a40d0bb556f350",
       "version_major": 2,
       "version_minor": 0
      },
      "text/plain": [
       "  0%|          | 0/1000 [00:00<?, ?it/s]"
      ]
     },
     "metadata": {},
     "output_type": "display_data"
    },
    {
     "data": {
      "application/vnd.jupyter.widget-view+json": {
       "model_id": "134b7d2490544e7a8e3b55f21370c054",
       "version_major": 2,
       "version_minor": 0
      },
      "text/plain": [
       "  0%|          | 0/1000 [00:00<?, ?it/s]"
      ]
     },
     "metadata": {},
     "output_type": "display_data"
    },
    {
     "data": {
      "application/vnd.jupyter.widget-view+json": {
       "model_id": "c2e96b49d3ab4b6a85246a93bc3792de",
       "version_major": 2,
       "version_minor": 0
      },
      "text/plain": [
       "  0%|          | 0/1000 [00:00<?, ?it/s]"
      ]
     },
     "metadata": {},
     "output_type": "display_data"
    },
    {
     "data": {
      "application/vnd.jupyter.widget-view+json": {
       "model_id": "b6f55bd21a5243aa99f9dece00003b29",
       "version_major": 2,
       "version_minor": 0
      },
      "text/plain": [
       "  0%|          | 0/1000 [00:00<?, ?it/s]"
      ]
     },
     "metadata": {},
     "output_type": "display_data"
    },
    {
     "data": {
      "application/vnd.jupyter.widget-view+json": {
       "model_id": "54a881a517904a449f91aada7cba7c84",
       "version_major": 2,
       "version_minor": 0
      },
      "text/plain": [
       "  0%|          | 0/1000 [00:00<?, ?it/s]"
      ]
     },
     "metadata": {},
     "output_type": "display_data"
    },
    {
     "data": {
      "application/vnd.jupyter.widget-view+json": {
       "model_id": "ec19f141f1a8431e87c943ba175a14bf",
       "version_major": 2,
       "version_minor": 0
      },
      "text/plain": [
       "  0%|          | 0/1000 [00:00<?, ?it/s]"
      ]
     },
     "metadata": {},
     "output_type": "display_data"
    },
    {
     "data": {
      "application/vnd.jupyter.widget-view+json": {
       "model_id": "38b6303a9fb449c0825ca2031cbd8214",
       "version_major": 2,
       "version_minor": 0
      },
      "text/plain": [
       "  0%|          | 0/1000 [00:00<?, ?it/s]"
      ]
     },
     "metadata": {},
     "output_type": "display_data"
    },
    {
     "data": {
      "application/vnd.jupyter.widget-view+json": {
       "model_id": "c883987e9db6448eac895bd9fa9e3fda",
       "version_major": 2,
       "version_minor": 0
      },
      "text/plain": [
       "  0%|          | 0/1000 [00:00<?, ?it/s]"
      ]
     },
     "metadata": {},
     "output_type": "display_data"
    },
    {
     "data": {
      "application/vnd.jupyter.widget-view+json": {
       "model_id": "cddbdbcc8a874b92bce057b3a12e3c15",
       "version_major": 2,
       "version_minor": 0
      },
      "text/plain": [
       "  0%|          | 0/1000 [00:00<?, ?it/s]"
      ]
     },
     "metadata": {},
     "output_type": "display_data"
    },
    {
     "data": {
      "application/vnd.jupyter.widget-view+json": {
       "model_id": "25d43f867d4d46299d480e426dea766f",
       "version_major": 2,
       "version_minor": 0
      },
      "text/plain": [
       "  0%|          | 0/1000 [00:00<?, ?it/s]"
      ]
     },
     "metadata": {},
     "output_type": "display_data"
    },
    {
     "data": {
      "application/vnd.jupyter.widget-view+json": {
       "model_id": "8ce799c603a64ac9985d70828a4f2189",
       "version_major": 2,
       "version_minor": 0
      },
      "text/plain": [
       "  0%|          | 0/1000 [00:00<?, ?it/s]"
      ]
     },
     "metadata": {},
     "output_type": "display_data"
    },
    {
     "data": {
      "application/vnd.jupyter.widget-view+json": {
       "model_id": "c759e8578c504c109e60cec4d15fa1fa",
       "version_major": 2,
       "version_minor": 0
      },
      "text/plain": [
       "  0%|          | 0/1000 [00:00<?, ?it/s]"
      ]
     },
     "metadata": {},
     "output_type": "display_data"
    },
    {
     "data": {
      "application/vnd.jupyter.widget-view+json": {
       "model_id": "382bebd16c60467bba5c924eaaa56c8d",
       "version_major": 2,
       "version_minor": 0
      },
      "text/plain": [
       "  0%|          | 0/1000 [00:00<?, ?it/s]"
      ]
     },
     "metadata": {},
     "output_type": "display_data"
    },
    {
     "data": {
      "application/vnd.jupyter.widget-view+json": {
       "model_id": "6bbba977af7d43e084f2d6ed350e3ce5",
       "version_major": 2,
       "version_minor": 0
      },
      "text/plain": [
       "  0%|          | 0/20 [00:00<?, ?it/s]"
      ]
     },
     "metadata": {},
     "output_type": "display_data"
    },
    {
     "data": {
      "application/vnd.jupyter.widget-view+json": {
       "model_id": "e2f4e951ea714291a455f2c131e75e4f",
       "version_major": 2,
       "version_minor": 0
      },
      "text/plain": [
       "  0%|          | 0/1000 [00:00<?, ?it/s]"
      ]
     },
     "metadata": {},
     "output_type": "display_data"
    },
    {
     "data": {
      "application/vnd.jupyter.widget-view+json": {
       "model_id": "95753b25a349457797bb44582fe90d21",
       "version_major": 2,
       "version_minor": 0
      },
      "text/plain": [
       "  0%|          | 0/1000 [00:00<?, ?it/s]"
      ]
     },
     "metadata": {},
     "output_type": "display_data"
    },
    {
     "data": {
      "application/vnd.jupyter.widget-view+json": {
       "model_id": "f0c9e661edeb4dedaf6d92214f2deb28",
       "version_major": 2,
       "version_minor": 0
      },
      "text/plain": [
       "  0%|          | 0/1000 [00:00<?, ?it/s]"
      ]
     },
     "metadata": {},
     "output_type": "display_data"
    },
    {
     "data": {
      "application/vnd.jupyter.widget-view+json": {
       "model_id": "cdca7bbe092d432fa18eb0126be0e514",
       "version_major": 2,
       "version_minor": 0
      },
      "text/plain": [
       "  0%|          | 0/1000 [00:00<?, ?it/s]"
      ]
     },
     "metadata": {},
     "output_type": "display_data"
    },
    {
     "data": {
      "application/vnd.jupyter.widget-view+json": {
       "model_id": "fc07fd5bcbb84995994e859953143843",
       "version_major": 2,
       "version_minor": 0
      },
      "text/plain": [
       "  0%|          | 0/1000 [00:00<?, ?it/s]"
      ]
     },
     "metadata": {},
     "output_type": "display_data"
    },
    {
     "data": {
      "application/vnd.jupyter.widget-view+json": {
       "model_id": "a9554b7ddaab4f47af9e49f43c5db923",
       "version_major": 2,
       "version_minor": 0
      },
      "text/plain": [
       "  0%|          | 0/1000 [00:00<?, ?it/s]"
      ]
     },
     "metadata": {},
     "output_type": "display_data"
    },
    {
     "data": {
      "application/vnd.jupyter.widget-view+json": {
       "model_id": "9bad0f5ce752415486c876e63a1d56f9",
       "version_major": 2,
       "version_minor": 0
      },
      "text/plain": [
       "  0%|          | 0/1000 [00:00<?, ?it/s]"
      ]
     },
     "metadata": {},
     "output_type": "display_data"
    },
    {
     "data": {
      "application/vnd.jupyter.widget-view+json": {
       "model_id": "cea10b7aaf724b3b92c8db1b53ab7974",
       "version_major": 2,
       "version_minor": 0
      },
      "text/plain": [
       "  0%|          | 0/1000 [00:00<?, ?it/s]"
      ]
     },
     "metadata": {},
     "output_type": "display_data"
    },
    {
     "data": {
      "application/vnd.jupyter.widget-view+json": {
       "model_id": "eec109fd354041cba1574b2043d59f2c",
       "version_major": 2,
       "version_minor": 0
      },
      "text/plain": [
       "  0%|          | 0/1000 [00:00<?, ?it/s]"
      ]
     },
     "metadata": {},
     "output_type": "display_data"
    },
    {
     "data": {
      "application/vnd.jupyter.widget-view+json": {
       "model_id": "0dc4217659c04792b62a18a939a93ff9",
       "version_major": 2,
       "version_minor": 0
      },
      "text/plain": [
       "  0%|          | 0/1000 [00:00<?, ?it/s]"
      ]
     },
     "metadata": {},
     "output_type": "display_data"
    },
    {
     "data": {
      "application/vnd.jupyter.widget-view+json": {
       "model_id": "76f9e0090b22489a86418085f1df3243",
       "version_major": 2,
       "version_minor": 0
      },
      "text/plain": [
       "  0%|          | 0/1000 [00:00<?, ?it/s]"
      ]
     },
     "metadata": {},
     "output_type": "display_data"
    },
    {
     "data": {
      "application/vnd.jupyter.widget-view+json": {
       "model_id": "535465960f594ef3bf9beb4eed5231d9",
       "version_major": 2,
       "version_minor": 0
      },
      "text/plain": [
       "  0%|          | 0/1000 [00:00<?, ?it/s]"
      ]
     },
     "metadata": {},
     "output_type": "display_data"
    },
    {
     "data": {
      "application/vnd.jupyter.widget-view+json": {
       "model_id": "a8ea4fed729942649aaf3c7b8807a67b",
       "version_major": 2,
       "version_minor": 0
      },
      "text/plain": [
       "  0%|          | 0/1000 [00:00<?, ?it/s]"
      ]
     },
     "metadata": {},
     "output_type": "display_data"
    },
    {
     "data": {
      "application/vnd.jupyter.widget-view+json": {
       "model_id": "ea624ac92634476288d051cb295b3917",
       "version_major": 2,
       "version_minor": 0
      },
      "text/plain": [
       "  0%|          | 0/1000 [00:00<?, ?it/s]"
      ]
     },
     "metadata": {},
     "output_type": "display_data"
    },
    {
     "data": {
      "application/vnd.jupyter.widget-view+json": {
       "model_id": "c687e337d24c4ec6aca4f15eddc393c3",
       "version_major": 2,
       "version_minor": 0
      },
      "text/plain": [
       "  0%|          | 0/1000 [00:00<?, ?it/s]"
      ]
     },
     "metadata": {},
     "output_type": "display_data"
    },
    {
     "data": {
      "application/vnd.jupyter.widget-view+json": {
       "model_id": "0a7a85e6f84545d79ff30cb8dd794577",
       "version_major": 2,
       "version_minor": 0
      },
      "text/plain": [
       "  0%|          | 0/1000 [00:00<?, ?it/s]"
      ]
     },
     "metadata": {},
     "output_type": "display_data"
    },
    {
     "data": {
      "application/vnd.jupyter.widget-view+json": {
       "model_id": "66cbe07a6ff04c3c883d8050c1005b7b",
       "version_major": 2,
       "version_minor": 0
      },
      "text/plain": [
       "  0%|          | 0/1000 [00:00<?, ?it/s]"
      ]
     },
     "metadata": {},
     "output_type": "display_data"
    },
    {
     "data": {
      "application/vnd.jupyter.widget-view+json": {
       "model_id": "73bd9036d5bd4c75b43ecf14bf226fbc",
       "version_major": 2,
       "version_minor": 0
      },
      "text/plain": [
       "  0%|          | 0/1000 [00:00<?, ?it/s]"
      ]
     },
     "metadata": {},
     "output_type": "display_data"
    },
    {
     "data": {
      "application/vnd.jupyter.widget-view+json": {
       "model_id": "ff4aac2b0afe4ae29da703424d6f13cb",
       "version_major": 2,
       "version_minor": 0
      },
      "text/plain": [
       "  0%|          | 0/1000 [00:00<?, ?it/s]"
      ]
     },
     "metadata": {},
     "output_type": "display_data"
    },
    {
     "data": {
      "application/vnd.jupyter.widget-view+json": {
       "model_id": "322d76a314ae42b682c93c3c21eeae50",
       "version_major": 2,
       "version_minor": 0
      },
      "text/plain": [
       "  0%|          | 0/1000 [00:00<?, ?it/s]"
      ]
     },
     "metadata": {},
     "output_type": "display_data"
    },
    {
     "data": {
      "application/vnd.jupyter.widget-view+json": {
       "model_id": "3cb3f20940c94908b1f055ba6473f3ce",
       "version_major": 2,
       "version_minor": 0
      },
      "text/plain": [
       "  0%|          | 0/20 [00:00<?, ?it/s]"
      ]
     },
     "metadata": {},
     "output_type": "display_data"
    },
    {
     "data": {
      "application/vnd.jupyter.widget-view+json": {
       "model_id": "1107c39752ff400d9125c922abfefea1",
       "version_major": 2,
       "version_minor": 0
      },
      "text/plain": [
       "  0%|          | 0/1000 [00:00<?, ?it/s]"
      ]
     },
     "metadata": {},
     "output_type": "display_data"
    },
    {
     "data": {
      "application/vnd.jupyter.widget-view+json": {
       "model_id": "ae883c93cd94436e83ce5fd06695f29b",
       "version_major": 2,
       "version_minor": 0
      },
      "text/plain": [
       "  0%|          | 0/1000 [00:00<?, ?it/s]"
      ]
     },
     "metadata": {},
     "output_type": "display_data"
    },
    {
     "data": {
      "application/vnd.jupyter.widget-view+json": {
       "model_id": "5a6f2090e4ee42239b47dd1de26d5a38",
       "version_major": 2,
       "version_minor": 0
      },
      "text/plain": [
       "  0%|          | 0/1000 [00:00<?, ?it/s]"
      ]
     },
     "metadata": {},
     "output_type": "display_data"
    },
    {
     "data": {
      "application/vnd.jupyter.widget-view+json": {
       "model_id": "0c0c87c3d5414aefa5a3416a2808c86e",
       "version_major": 2,
       "version_minor": 0
      },
      "text/plain": [
       "  0%|          | 0/1000 [00:00<?, ?it/s]"
      ]
     },
     "metadata": {},
     "output_type": "display_data"
    },
    {
     "data": {
      "application/vnd.jupyter.widget-view+json": {
       "model_id": "942a985a65c44cebbc6d82dde2ac65d0",
       "version_major": 2,
       "version_minor": 0
      },
      "text/plain": [
       "  0%|          | 0/1000 [00:00<?, ?it/s]"
      ]
     },
     "metadata": {},
     "output_type": "display_data"
    },
    {
     "data": {
      "application/vnd.jupyter.widget-view+json": {
       "model_id": "cfa7385bc26a4fc7975e7e8cc8e1e097",
       "version_major": 2,
       "version_minor": 0
      },
      "text/plain": [
       "  0%|          | 0/1000 [00:00<?, ?it/s]"
      ]
     },
     "metadata": {},
     "output_type": "display_data"
    },
    {
     "data": {
      "application/vnd.jupyter.widget-view+json": {
       "model_id": "ddda66c46ca54010b68a75c7297f1ee8",
       "version_major": 2,
       "version_minor": 0
      },
      "text/plain": [
       "  0%|          | 0/1000 [00:00<?, ?it/s]"
      ]
     },
     "metadata": {},
     "output_type": "display_data"
    },
    {
     "data": {
      "application/vnd.jupyter.widget-view+json": {
       "model_id": "4c5664cc7d114241811bc8b282536efb",
       "version_major": 2,
       "version_minor": 0
      },
      "text/plain": [
       "  0%|          | 0/1000 [00:00<?, ?it/s]"
      ]
     },
     "metadata": {},
     "output_type": "display_data"
    },
    {
     "data": {
      "application/vnd.jupyter.widget-view+json": {
       "model_id": "8c4a57a905e04b1684927172c3df08c2",
       "version_major": 2,
       "version_minor": 0
      },
      "text/plain": [
       "  0%|          | 0/1000 [00:00<?, ?it/s]"
      ]
     },
     "metadata": {},
     "output_type": "display_data"
    },
    {
     "data": {
      "application/vnd.jupyter.widget-view+json": {
       "model_id": "43042fb46c0945b991a9e35c0ba17e76",
       "version_major": 2,
       "version_minor": 0
      },
      "text/plain": [
       "  0%|          | 0/1000 [00:00<?, ?it/s]"
      ]
     },
     "metadata": {},
     "output_type": "display_data"
    },
    {
     "data": {
      "application/vnd.jupyter.widget-view+json": {
       "model_id": "e31965376c044c54969187ea1e423b6c",
       "version_major": 2,
       "version_minor": 0
      },
      "text/plain": [
       "  0%|          | 0/1000 [00:00<?, ?it/s]"
      ]
     },
     "metadata": {},
     "output_type": "display_data"
    },
    {
     "data": {
      "application/vnd.jupyter.widget-view+json": {
       "model_id": "ffe858edbccb4fe6a9eaf75d45974e8a",
       "version_major": 2,
       "version_minor": 0
      },
      "text/plain": [
       "  0%|          | 0/1000 [00:00<?, ?it/s]"
      ]
     },
     "metadata": {},
     "output_type": "display_data"
    },
    {
     "data": {
      "application/vnd.jupyter.widget-view+json": {
       "model_id": "9430abcdd0f3486b9918584e3fd1cec0",
       "version_major": 2,
       "version_minor": 0
      },
      "text/plain": [
       "  0%|          | 0/1000 [00:00<?, ?it/s]"
      ]
     },
     "metadata": {},
     "output_type": "display_data"
    },
    {
     "data": {
      "application/vnd.jupyter.widget-view+json": {
       "model_id": "90da096d610248468f3d5fd6ed8ac569",
       "version_major": 2,
       "version_minor": 0
      },
      "text/plain": [
       "  0%|          | 0/1000 [00:00<?, ?it/s]"
      ]
     },
     "metadata": {},
     "output_type": "display_data"
    },
    {
     "data": {
      "application/vnd.jupyter.widget-view+json": {
       "model_id": "a7f96842688945d9a2c4bec0377e9366",
       "version_major": 2,
       "version_minor": 0
      },
      "text/plain": [
       "  0%|          | 0/1000 [00:00<?, ?it/s]"
      ]
     },
     "metadata": {},
     "output_type": "display_data"
    },
    {
     "data": {
      "application/vnd.jupyter.widget-view+json": {
       "model_id": "5b8a3e66071a4c1ebb60cdbea9eba6df",
       "version_major": 2,
       "version_minor": 0
      },
      "text/plain": [
       "  0%|          | 0/1000 [00:00<?, ?it/s]"
      ]
     },
     "metadata": {},
     "output_type": "display_data"
    },
    {
     "data": {
      "application/vnd.jupyter.widget-view+json": {
       "model_id": "32fff6bdf78c4385aa28b926ca6fefa8",
       "version_major": 2,
       "version_minor": 0
      },
      "text/plain": [
       "  0%|          | 0/1000 [00:00<?, ?it/s]"
      ]
     },
     "metadata": {},
     "output_type": "display_data"
    },
    {
     "data": {
      "application/vnd.jupyter.widget-view+json": {
       "model_id": "5c9a27de9a7d4d6db33899c3790132e2",
       "version_major": 2,
       "version_minor": 0
      },
      "text/plain": [
       "  0%|          | 0/1000 [00:00<?, ?it/s]"
      ]
     },
     "metadata": {},
     "output_type": "display_data"
    },
    {
     "data": {
      "application/vnd.jupyter.widget-view+json": {
       "model_id": "1b0b808ff5ea4a73b760a8ca1bec4f8c",
       "version_major": 2,
       "version_minor": 0
      },
      "text/plain": [
       "  0%|          | 0/1000 [00:00<?, ?it/s]"
      ]
     },
     "metadata": {},
     "output_type": "display_data"
    },
    {
     "data": {
      "application/vnd.jupyter.widget-view+json": {
       "model_id": "f1a7e54394434a2ba631cf2e39db6be1",
       "version_major": 2,
       "version_minor": 0
      },
      "text/plain": [
       "  0%|          | 0/1000 [00:00<?, ?it/s]"
      ]
     },
     "metadata": {},
     "output_type": "display_data"
    },
    {
     "data": {
      "application/vnd.jupyter.widget-view+json": {
       "model_id": "94571b6371054664b96227d7d425149a",
       "version_major": 2,
       "version_minor": 0
      },
      "text/plain": [
       "  0%|          | 0/20 [00:00<?, ?it/s]"
      ]
     },
     "metadata": {},
     "output_type": "display_data"
    },
    {
     "data": {
      "application/vnd.jupyter.widget-view+json": {
       "model_id": "8f4ba11e69ff462795b421717bb9424d",
       "version_major": 2,
       "version_minor": 0
      },
      "text/plain": [
       "  0%|          | 0/1000 [00:00<?, ?it/s]"
      ]
     },
     "metadata": {},
     "output_type": "display_data"
    },
    {
     "data": {
      "application/vnd.jupyter.widget-view+json": {
       "model_id": "f459d975364242a7ab5c7817bc8af5df",
       "version_major": 2,
       "version_minor": 0
      },
      "text/plain": [
       "  0%|          | 0/1000 [00:00<?, ?it/s]"
      ]
     },
     "metadata": {},
     "output_type": "display_data"
    },
    {
     "data": {
      "application/vnd.jupyter.widget-view+json": {
       "model_id": "7b324175c70a46a39245e9a5e7217802",
       "version_major": 2,
       "version_minor": 0
      },
      "text/plain": [
       "  0%|          | 0/1000 [00:00<?, ?it/s]"
      ]
     },
     "metadata": {},
     "output_type": "display_data"
    },
    {
     "data": {
      "application/vnd.jupyter.widget-view+json": {
       "model_id": "1d51939dff5843f292498fb4f8603993",
       "version_major": 2,
       "version_minor": 0
      },
      "text/plain": [
       "  0%|          | 0/1000 [00:00<?, ?it/s]"
      ]
     },
     "metadata": {},
     "output_type": "display_data"
    },
    {
     "data": {
      "application/vnd.jupyter.widget-view+json": {
       "model_id": "daa223e513ca4ec5a87fd7da7693ebbd",
       "version_major": 2,
       "version_minor": 0
      },
      "text/plain": [
       "  0%|          | 0/1000 [00:00<?, ?it/s]"
      ]
     },
     "metadata": {},
     "output_type": "display_data"
    },
    {
     "data": {
      "application/vnd.jupyter.widget-view+json": {
       "model_id": "275de32ac28a4bb784f009d01e69dcaa",
       "version_major": 2,
       "version_minor": 0
      },
      "text/plain": [
       "  0%|          | 0/1000 [00:00<?, ?it/s]"
      ]
     },
     "metadata": {},
     "output_type": "display_data"
    },
    {
     "data": {
      "application/vnd.jupyter.widget-view+json": {
       "model_id": "448f3c72cc2a4493bea17bd5caa41a16",
       "version_major": 2,
       "version_minor": 0
      },
      "text/plain": [
       "  0%|          | 0/1000 [00:00<?, ?it/s]"
      ]
     },
     "metadata": {},
     "output_type": "display_data"
    },
    {
     "data": {
      "application/vnd.jupyter.widget-view+json": {
       "model_id": "b22fd3c593184516b6c1fd9bd01b34f0",
       "version_major": 2,
       "version_minor": 0
      },
      "text/plain": [
       "  0%|          | 0/1000 [00:00<?, ?it/s]"
      ]
     },
     "metadata": {},
     "output_type": "display_data"
    },
    {
     "data": {
      "application/vnd.jupyter.widget-view+json": {
       "model_id": "0637739a7a124485bf03ba8335a96eb0",
       "version_major": 2,
       "version_minor": 0
      },
      "text/plain": [
       "  0%|          | 0/1000 [00:00<?, ?it/s]"
      ]
     },
     "metadata": {},
     "output_type": "display_data"
    },
    {
     "data": {
      "application/vnd.jupyter.widget-view+json": {
       "model_id": "f24fa9d1b1424780b798aaeaffba6dc9",
       "version_major": 2,
       "version_minor": 0
      },
      "text/plain": [
       "  0%|          | 0/1000 [00:00<?, ?it/s]"
      ]
     },
     "metadata": {},
     "output_type": "display_data"
    },
    {
     "data": {
      "application/vnd.jupyter.widget-view+json": {
       "model_id": "6afed99e1a7740c2b7a40305d7e258c8",
       "version_major": 2,
       "version_minor": 0
      },
      "text/plain": [
       "  0%|          | 0/1000 [00:00<?, ?it/s]"
      ]
     },
     "metadata": {},
     "output_type": "display_data"
    },
    {
     "data": {
      "application/vnd.jupyter.widget-view+json": {
       "model_id": "484d9e035d094fbf830a389102a80658",
       "version_major": 2,
       "version_minor": 0
      },
      "text/plain": [
       "  0%|          | 0/1000 [00:00<?, ?it/s]"
      ]
     },
     "metadata": {},
     "output_type": "display_data"
    },
    {
     "data": {
      "application/vnd.jupyter.widget-view+json": {
       "model_id": "ba3f56df8a5a4617a082b98513b61eb2",
       "version_major": 2,
       "version_minor": 0
      },
      "text/plain": [
       "  0%|          | 0/1000 [00:00<?, ?it/s]"
      ]
     },
     "metadata": {},
     "output_type": "display_data"
    },
    {
     "data": {
      "application/vnd.jupyter.widget-view+json": {
       "model_id": "913f3014fcf4420ea6fee69e66d55918",
       "version_major": 2,
       "version_minor": 0
      },
      "text/plain": [
       "  0%|          | 0/1000 [00:00<?, ?it/s]"
      ]
     },
     "metadata": {},
     "output_type": "display_data"
    },
    {
     "data": {
      "application/vnd.jupyter.widget-view+json": {
       "model_id": "a338b89662614bcea4ce7c48e186c283",
       "version_major": 2,
       "version_minor": 0
      },
      "text/plain": [
       "  0%|          | 0/1000 [00:00<?, ?it/s]"
      ]
     },
     "metadata": {},
     "output_type": "display_data"
    },
    {
     "data": {
      "application/vnd.jupyter.widget-view+json": {
       "model_id": "d461d95c90694d458f3a8cdf3b686a34",
       "version_major": 2,
       "version_minor": 0
      },
      "text/plain": [
       "  0%|          | 0/1000 [00:00<?, ?it/s]"
      ]
     },
     "metadata": {},
     "output_type": "display_data"
    },
    {
     "data": {
      "application/vnd.jupyter.widget-view+json": {
       "model_id": "247b442a5f934290ae212502712b3701",
       "version_major": 2,
       "version_minor": 0
      },
      "text/plain": [
       "  0%|          | 0/1000 [00:00<?, ?it/s]"
      ]
     },
     "metadata": {},
     "output_type": "display_data"
    },
    {
     "data": {
      "application/vnd.jupyter.widget-view+json": {
       "model_id": "f572687d3d5e4ffab892d8d3994e3d6d",
       "version_major": 2,
       "version_minor": 0
      },
      "text/plain": [
       "  0%|          | 0/1000 [00:00<?, ?it/s]"
      ]
     },
     "metadata": {},
     "output_type": "display_data"
    },
    {
     "data": {
      "application/vnd.jupyter.widget-view+json": {
       "model_id": "0ad826e628804ac49ea202462fa91ac8",
       "version_major": 2,
       "version_minor": 0
      },
      "text/plain": [
       "  0%|          | 0/1000 [00:00<?, ?it/s]"
      ]
     },
     "metadata": {},
     "output_type": "display_data"
    },
    {
     "data": {
      "application/vnd.jupyter.widget-view+json": {
       "model_id": "47f9b9be2d8546058374847641396439",
       "version_major": 2,
       "version_minor": 0
      },
      "text/plain": [
       "  0%|          | 0/1000 [00:00<?, ?it/s]"
      ]
     },
     "metadata": {},
     "output_type": "display_data"
    },
    {
     "data": {
      "application/vnd.jupyter.widget-view+json": {
       "model_id": "f87bd1a51ad04b1a95725c75fdd09a22",
       "version_major": 2,
       "version_minor": 0
      },
      "text/plain": [
       "  0%|          | 0/20 [00:00<?, ?it/s]"
      ]
     },
     "metadata": {},
     "output_type": "display_data"
    },
    {
     "data": {
      "application/vnd.jupyter.widget-view+json": {
       "model_id": "aefa0fb9697549a49a81633e0cb9a5db",
       "version_major": 2,
       "version_minor": 0
      },
      "text/plain": [
       "  0%|          | 0/1000 [00:00<?, ?it/s]"
      ]
     },
     "metadata": {},
     "output_type": "display_data"
    },
    {
     "data": {
      "application/vnd.jupyter.widget-view+json": {
       "model_id": "14e266d0850f4a7faf1ba66cb22819d3",
       "version_major": 2,
       "version_minor": 0
      },
      "text/plain": [
       "  0%|          | 0/1000 [00:00<?, ?it/s]"
      ]
     },
     "metadata": {},
     "output_type": "display_data"
    },
    {
     "data": {
      "application/vnd.jupyter.widget-view+json": {
       "model_id": "f3036dce868b4699a4d7261328ae5b53",
       "version_major": 2,
       "version_minor": 0
      },
      "text/plain": [
       "  0%|          | 0/1000 [00:00<?, ?it/s]"
      ]
     },
     "metadata": {},
     "output_type": "display_data"
    },
    {
     "data": {
      "application/vnd.jupyter.widget-view+json": {
       "model_id": "a5fa15086dda4f3f98457e9b3084a9ea",
       "version_major": 2,
       "version_minor": 0
      },
      "text/plain": [
       "  0%|          | 0/1000 [00:00<?, ?it/s]"
      ]
     },
     "metadata": {},
     "output_type": "display_data"
    },
    {
     "data": {
      "application/vnd.jupyter.widget-view+json": {
       "model_id": "7ad51a2922c14c859419830dcbf0967a",
       "version_major": 2,
       "version_minor": 0
      },
      "text/plain": [
       "  0%|          | 0/1000 [00:00<?, ?it/s]"
      ]
     },
     "metadata": {},
     "output_type": "display_data"
    },
    {
     "data": {
      "application/vnd.jupyter.widget-view+json": {
       "model_id": "19d54effdcb14022bfe612d3d5f7a653",
       "version_major": 2,
       "version_minor": 0
      },
      "text/plain": [
       "  0%|          | 0/1000 [00:00<?, ?it/s]"
      ]
     },
     "metadata": {},
     "output_type": "display_data"
    },
    {
     "data": {
      "application/vnd.jupyter.widget-view+json": {
       "model_id": "c3c1d86a60ec40399a48b2cbe5cbc816",
       "version_major": 2,
       "version_minor": 0
      },
      "text/plain": [
       "  0%|          | 0/1000 [00:00<?, ?it/s]"
      ]
     },
     "metadata": {},
     "output_type": "display_data"
    },
    {
     "data": {
      "application/vnd.jupyter.widget-view+json": {
       "model_id": "91ba4e6087e64f538c8a72037a905062",
       "version_major": 2,
       "version_minor": 0
      },
      "text/plain": [
       "  0%|          | 0/1000 [00:00<?, ?it/s]"
      ]
     },
     "metadata": {},
     "output_type": "display_data"
    },
    {
     "data": {
      "application/vnd.jupyter.widget-view+json": {
       "model_id": "ae19b1b3d3fb4520ab1bd05968a9dbb6",
       "version_major": 2,
       "version_minor": 0
      },
      "text/plain": [
       "  0%|          | 0/1000 [00:00<?, ?it/s]"
      ]
     },
     "metadata": {},
     "output_type": "display_data"
    },
    {
     "data": {
      "application/vnd.jupyter.widget-view+json": {
       "model_id": "8b59814010cb47e292d9a4765dffc4a6",
       "version_major": 2,
       "version_minor": 0
      },
      "text/plain": [
       "  0%|          | 0/1000 [00:00<?, ?it/s]"
      ]
     },
     "metadata": {},
     "output_type": "display_data"
    },
    {
     "data": {
      "application/vnd.jupyter.widget-view+json": {
       "model_id": "1f59f8a0f80f4378aa90091f2a3e18ab",
       "version_major": 2,
       "version_minor": 0
      },
      "text/plain": [
       "  0%|          | 0/1000 [00:00<?, ?it/s]"
      ]
     },
     "metadata": {},
     "output_type": "display_data"
    },
    {
     "data": {
      "application/vnd.jupyter.widget-view+json": {
       "model_id": "467dac72f72d4bfbafa777f0c5aae61d",
       "version_major": 2,
       "version_minor": 0
      },
      "text/plain": [
       "  0%|          | 0/1000 [00:00<?, ?it/s]"
      ]
     },
     "metadata": {},
     "output_type": "display_data"
    },
    {
     "data": {
      "application/vnd.jupyter.widget-view+json": {
       "model_id": "773f2b5ce6b04791b55fe26fd036fe4c",
       "version_major": 2,
       "version_minor": 0
      },
      "text/plain": [
       "  0%|          | 0/1000 [00:00<?, ?it/s]"
      ]
     },
     "metadata": {},
     "output_type": "display_data"
    },
    {
     "data": {
      "application/vnd.jupyter.widget-view+json": {
       "model_id": "bc5673a6225e44d5baa3ba7de5219cb4",
       "version_major": 2,
       "version_minor": 0
      },
      "text/plain": [
       "  0%|          | 0/1000 [00:00<?, ?it/s]"
      ]
     },
     "metadata": {},
     "output_type": "display_data"
    },
    {
     "data": {
      "application/vnd.jupyter.widget-view+json": {
       "model_id": "a31cbf534edf442c9d42fde3131e66c1",
       "version_major": 2,
       "version_minor": 0
      },
      "text/plain": [
       "  0%|          | 0/1000 [00:00<?, ?it/s]"
      ]
     },
     "metadata": {},
     "output_type": "display_data"
    },
    {
     "data": {
      "application/vnd.jupyter.widget-view+json": {
       "model_id": "d9b64ea47cee4507b906c6a7728416b7",
       "version_major": 2,
       "version_minor": 0
      },
      "text/plain": [
       "  0%|          | 0/1000 [00:00<?, ?it/s]"
      ]
     },
     "metadata": {},
     "output_type": "display_data"
    },
    {
     "data": {
      "application/vnd.jupyter.widget-view+json": {
       "model_id": "6470213fd8c74363be1db72f6ee88fd7",
       "version_major": 2,
       "version_minor": 0
      },
      "text/plain": [
       "  0%|          | 0/1000 [00:00<?, ?it/s]"
      ]
     },
     "metadata": {},
     "output_type": "display_data"
    },
    {
     "data": {
      "application/vnd.jupyter.widget-view+json": {
       "model_id": "fd40b85905194b2db305c114262ca167",
       "version_major": 2,
       "version_minor": 0
      },
      "text/plain": [
       "  0%|          | 0/1000 [00:00<?, ?it/s]"
      ]
     },
     "metadata": {},
     "output_type": "display_data"
    },
    {
     "data": {
      "application/vnd.jupyter.widget-view+json": {
       "model_id": "7875c26f8dec40deb86cad09f5f0cebe",
       "version_major": 2,
       "version_minor": 0
      },
      "text/plain": [
       "  0%|          | 0/1000 [00:00<?, ?it/s]"
      ]
     },
     "metadata": {},
     "output_type": "display_data"
    },
    {
     "data": {
      "application/vnd.jupyter.widget-view+json": {
       "model_id": "c4371afe3e0e4f9eaaf2e9f6ea6a01f6",
       "version_major": 2,
       "version_minor": 0
      },
      "text/plain": [
       "  0%|          | 0/1000 [00:00<?, ?it/s]"
      ]
     },
     "metadata": {},
     "output_type": "display_data"
    }
   ],
   "source": [
    "numblockdropped_vs_acc = {}\n",
    "for k in [3, 4, 5, 6, 7]:\n",
    "    proportion_vs_acc = {}\n",
    "    for proportion in tqdm.notebook.tqdm(torch.linspace(0.05, 0.9, 20)):\n",
    "        val_accuracies = process_configs_trainval(f\"./logs/stats/16nCr{k}/all.pth\", train_val_proportion=proportion)\n",
    "        proportion_vs_acc[proportion.item()] = val_accuracies.mean().item()\n",
    "    numblockdropped_vs_acc[k] = proportion_vs_acc"
   ]
  },
  {
   "cell_type": "code",
   "execution_count": 131,
   "metadata": {},
   "outputs": [],
   "source": [
    "torch.save(numblockdropped_vs_acc, \"numblockdropped_vs_acc_3-7_0.05-0.9_step20.pth\")"
   ]
  },
  {
   "cell_type": "code",
   "execution_count": 144,
   "metadata": {},
   "outputs": [
    {
     "data": {
      "image/png": "[encoded data removed]",
      "text/plain": [
       "<Figure size 1440x720 with 5 Axes>"
      ]
     },
     "metadata": {
      "needs_background": "light"
     },
     "output_type": "display_data"
    }
   ],
   "source": [
    "plt.figure(figsize=[20, 10])\n",
    "for i, k in enumerate([3, 4, 5, 6, 7], start=1):\n",
    "    proportion_vs_acc = numblockdropped_vs_acc[k]\n",
    "    plt.subplot(2, 3, i)\n",
    "    plt.plot(proportion_vs_acc.keys(), proportion_vs_acc.values())\n",
    "    plt.title(f\"DROP-{k}: Train-val proportion vs Val accuracy\")\n",
    "    plt.xlabel(\"Train-val proportion\")\n",
    "    plt.ylabel(\"Mean Top-1 Acc with Oracle selection\")\n",
    "plt.show()"
   ]
  },
  {
   "cell_type": "markdown",
   "metadata": {},
   "source": [
    "## Find clustered labels correspondance\n",
    "\n",
    "When multiple class chooses the same configuration find which classes are those and if there is any semantically meaninngful connection between"
   ]
  },
  {
   "cell_type": "code",
   "execution_count": 205,
   "metadata": {},
   "outputs": [],
   "source": [
    "import json\n",
    "imagenet_id_to_str = json.load(open(\"imagenet_class_index.json\"))\n",
    "imagenet_id_to_str = {int(k):v[1] for k, v in imagenet_id_to_str.items()}"
   ]
  },
  {
   "cell_type": "code",
   "execution_count": 262,
   "metadata": {},
   "outputs": [
    {
     "data": {
      "image/png": "[encoded data removed]",
      "text/plain": [
       "<Figure size 504x1080 with 5 Axes>"
      ]
     },
     "metadata": {
      "needs_background": "light"
     },
     "output_type": "display_data"
    }
   ],
   "source": [
    "plt.figure(figsize=[7, 15])\n",
    "for i, k in enumerate([3, 4, 5, 6, 7], start=1):    \n",
    "#     class_vs_config_accuracies = process_configs(f\"logs/stats/16nCr{k}/all.pth\")\n",
    "    class_vs_config_accuracies = torch.load(f\"class_vs_config_accuracies_16nCr{k}.pth\")\n",
    "    num_configs = class_vs_config_accuracies.shape[1]\n",
    "\n",
    "    def unique(x, dim=-1):\n",
    "        unique, inverse = torch.unique(x, return_inverse=True, dim=dim)\n",
    "        perm = torch.arange(inverse.size(dim), dtype=inverse.dtype, device=inverse.device)\n",
    "        inverse, perm = inverse.flip([dim]), perm.flip([dim])\n",
    "        return unique, inverse.new_empty(unique.size(dim)).scatter_(dim, inverse, perm)\n",
    "    best_config_per_class = class_vs_config_accuracies.argmax(dim=1)\n",
    "    unique_val, unique_ind = unique(best_config_per_class)\n",
    "    _, unique_count = torch.unique(class_vs_config_accuracies.argmax(dim=1), return_counts=True)\n",
    "\n",
    "\n",
    "    # Find configs that have more than 1 occurence:\n",
    "    config_vs_best_classids = {}\n",
    "    config_mask = unique_count > 1\n",
    "\n",
    "    for config_id in unique_val[config_mask]:\n",
    "        best_classids = torch.nonzero(best_config_per_class == config_id).flatten().tolist()\n",
    "        config_vs_best_classids[config_id.item()] = best_classids\n",
    "\n",
    "    config_vs_best_classtxt = {}\n",
    "    for config_id, best_classids in config_vs_best_classids.items():\n",
    "        class_txts = [imagenet_id_to_str[cid] for cid in best_classids]\n",
    "        config_vs_best_classtxt[config_id] = class_txts\n",
    "\n",
    "    config_vs_best_classtxt = {\n",
    "        k: v\n",
    "        for k, v in sorted(config_vs_best_classtxt.items(), key=lambda item: -len(item[1]))\n",
    "    }\n",
    "    \n",
    "    plt.subplot(5, 1, i)\n",
    "    plt.plot(range(len(config_vs_best_classtxt)), [len(v) for v in config_vs_best_classtxt.values()], )\n",
    "    plt.title(f\"DROP-{k}: Count of corresponding class labels to each unique config\")\n",
    "    plt.ylabel(\"count\")\n",
    "    plt.xlabel(\"unique configs\")\n",
    "    frame1 = plt.gca()\n",
    "    frame1.axes.xaxis.set_ticklabels([])\n",
    "    plt.tight_layout()"
   ]
  },
  {
   "cell_type": "code",
   "execution_count": 242,
   "metadata": {},
   "outputs": [
    {
     "name": "stdout",
     "output_type": "stream",
     "text": [
      "8,junco,great_grey_owl,scorpion,tarantula,echidna,wallaby,European_gallinule,papillon,Samoyed,dhole,African_hunting_dog,Angora,Arabian_camel,armadillo,three-toed_sloth,proboscis_monkey,lesser_panda,corkscrew,fireboat,maypole,web_site,buckeye,earthstar\n",
      "2928,black_stork,fly,ox,giant_panda,minivan,plastic_bag,whiskey_jug,lakeside\n",
      "924,tench,jacamar,slug,Norwich_terrier,Welsh_springer_spaniel,carpenter's_kit,yawl\n",
      "612,Italian_greyhound,Great_Pyrenees,neck_brace,teddy,pineapple,geyser\n",
      "750,frilled_lizard,curly-coated_retriever,Sussex_spaniel,EntleBucher,kit_fox,sloth_bear\n",
      "2448,pug,sulphur_butterfly,anemone_fish,magnetic_compass,volleyball,bagel\n",
      "2925,kite,hornbill,accordion,bulletproof_vest,shield,book_jacket\n",
      "4136,white_stork,Mexican_hairless,bow,grocery_store,Loafer,tricycle\n",
      "2,spoonbill,ruddy_turnstone,Leonberg,pillow,tank\n",
      "10,vulture,hummingbird,clumber,Rottweiler,lion\n",
      "18,American_egret,redshank,Bernese_mountain_dog,hamster,daisy\n",
      "738,Japanese_spaniel,Walker_hound,lotion,milk_can,overskirt\n",
      "816,mantis,microwave,mountain_tent,muzzle,plate\n",
      "893,breakwater,digital_watch,jinrikisha,moving_van,passenger_car\n",
      "1465,barn_spider,polecat,maraca,table_lamp,spaghetti_squash\n",
      "2134,Indian_cobra,basset,Scotch_terrier,barrow,forklift\n",
      "227,vizsla,basenji,amphibian,pirate\n",
      "390,American_coot,Gordon_setter,crash_helmet,freight_car\n",
      "918,snail,ski,thatch,upright\n",
      "1822,common_iguana,cricket,picket_fence,wreck\n",
      "2584,black_grouse,German_short-haired_pointer,gong,eggnog\n",
      "2715,axolotl,fiddler_crab,black-and-tan_coonhound,breastplate\n",
      "2841,Lakeland_terrier,kuvasz,chain_saw,guacamole\n",
      "6758,hard_disc,pickelhaube,sewing_machine,viaduct\n",
      "6986,Staffordshire_bullterrier,marmoset,birdhouse,custard_apple\n",
      "6989,toy_poodle,llama,gas_pump,mailbag\n",
      "7258,Scottish_deerhound,giant_schnauzer,grand_piano,holster\n",
      "27,tiger_beetle,canoe,mosque\n",
      "31,African_grey,zebra,pay-phone\n",
      "35,chickadee,English_springer,megalith\n",
      "37,Komodo_dragon,black_and_gold_garden_spider,bicycle-built-for-two\n",
      "84,bald_eagle,European_fire_salamander,necklace\n",
      "263,coucal,king_penguin,cicada\n",
      "305,water_buffalo,park_bench,head_cabbage\n",
      "419,Irish_wolfhound,cabbage_butterfly,golfcart\n",
      "483,dam,radio_telescope,trailer_truck\n",
      "611,ringlet,bighorn,indri\n",
      "683,redbone,golden_retriever,jersey\n",
      "765,hand-held_computer,panpipe,tobacco_shop\n",
      "908,komondor,tiger,can_opener\n",
      "921,bassoon,butcher_shop,vacuum\n",
      "1327,dalmatian,dragonfly,snorkel\n",
      "1580,crib,torch,groom\n",
      "1765,electric_guitar,mailbox,vase\n",
      "2019,coffee_mug,laptop,spider_web\n",
      "2026,crane,bikini,triumphal_arch\n",
      "2082,lynx,rain_barrel,stage\n",
      "2137,oystercatcher,shoe_shop,soccer_ball\n",
      "2330,wild_boar,radio,snowmobile\n",
      "2356,brambling,Chihuahua,totem_pole\n",
      "2458,great_white_shark,rifle,fig\n",
      "2545,Sealyham_terrier,nipple,paddlewheel\n",
      "2935,Shetland_sheepdog,cab,flute\n",
      "3200,West_Highland_white_terrier,greenhouse,pencil_sharpener\n",
      "4927,Great_Dane,leaf_beetle,cuirass\n",
      "5753,king_crab,langur,toyshop\n",
      "6739,miniature_poodle,capuchin,swing\n",
      "6881,terrapin,Doberman,gar\n",
      "7006,bakery,vestment,artichoke\n",
      "7016,altar,ice_cream,acorn_squash\n",
      "7083,Cardigan,hare,cello\n",
      "1,grille,yellow_lady's_slipper\n",
      "29,house_finch,hourglass\n",
      "61,paper_towel,rugby_ball\n",
      "63,Afghan_hound,sorrel\n",
      "73,warthog,lionfish\n",
      "110,carousel,odometer\n",
      "118,monarch,dial_telephone\n",
      "178,ostrich,wig\n",
      "294,bustard,Weimaraner\n",
      "308,street_sign,cliff\n",
      "338,ram,suspension_bridge\n",
      "375,speedboat,hay\n",
      "382,Model_T,Granny_Smith\n",
      "383,hatchet,switch\n",
      "393,manhole_cover,mosquito_net\n",
      "441,apiary,banjo\n",
      "461,thunder_snake,mouse\n",
      "499,ibex,cheeseburger\n",
      "500,car_mirror,cash_machine\n",
      "587,harp,quilt\n",
      "620,gazelle,macaque\n",
      "670,otterhound,Old_English_sheepdog\n",
      "689,fox_squirrel,assault_rifle\n",
      "718,Petri_dish,thresher\n",
      "758,Dandie_Dinmont,steel_arch_bridge\n",
      "800,crate,prison\n",
      "916,sidewinder,affenpinscher\n",
      "927,brown_bear,letter_opener\n",
      "953,borzoi,motor_scooter\n",
      "984,Siberian_husky,shopping_cart\n",
      "989,hyena,bearskin\n",
      "997,timber_wolf,gondola\n",
      "1000,Saint_Bernard,joystick\n",
      "1018,lipstick,strawberry\n",
      "1104,theater_curtain,throne\n",
      "1134,fire_engine,jeep\n",
      "1198,tree_frog,boathouse\n",
      "1208,spindle,steel_drum\n",
      "1231,rock_beauty,beaker\n",
      "1318,dogsled,lifeboat\n",
      "1390,black-footed_ferret,ambulance\n",
      "1416,Tibetan_mastiff,shopping_basket\n",
      "1599,green_mamba,tennis_ball\n",
      "1612,prairie_chicken,parallel_bars\n",
      "1633,soft-coated_wheaten_terrier,tractor\n",
      "1642,loupe,stethoscope\n",
      "1644,wood_rabbit,mink\n",
      "1794,Border_terrier,coho\n",
      "2081,tub,sandbar\n",
      "2122,brass,cannon\n",
      "2126,alligator_lizard,waffle_iron\n",
      "2146,ladybug,bolete\n",
      "2308,African_elephant,military_uniform\n",
      "2345,bottlecap,ocarina\n",
      "2572,red-breasted_merganser,platypus\n",
      "2784,zucchini,agaric\n",
      "2794,bulbul,rhinoceros_beetle\n",
      "2871,Egyptian_cat,horizontal_bar\n",
      "3055,crayfish,espresso_maker\n",
      "3136,minibus,mortarboard\n",
      "3329,malamute,snow_leopard\n",
      "3641,triceratops,analog_clock\n",
      "3664,black_widow,crane\n",
      "3776,rock_crab,perfume\n",
      "3860,boa_constrictor,pickup\n",
      "3916,hermit_crab,paddle\n",
      "3922,balance_beam,parachute\n",
      "4064,little_blue_heron,colobus\n",
      "4105,garbage_truck,limousine\n",
      "4260,grey_whale,bluetick\n",
      "4289,eft,acoustic_guitar\n",
      "4358,Appenzeller,cowboy_hat\n",
      "4420,groenendael,Bouvier_des_Flandres\n",
      "4489,bannister,syringe\n",
      "4660,iron,toaster\n",
      "4771,cock,catamaran\n",
      "5423,sea_snake,mask\n",
      "5947,Newfoundland,four-poster\n",
      "6160,silky_terrier,cocktail_shaker\n",
      "6165,tailed_frog,sweatshirt\n",
      "6270,horned_viper,red_wolf\n",
      "6290,chime,hand_blower\n",
      "6425,binoculars,jack-o'-lantern\n",
      "6522,bath_towel,lumbermill\n",
      "6527,African_crocodile,Irish_water_spaniel\n",
      "6548,American_alligator,racket\n",
      "6868,bell_cote,hair_slide\n",
      "6936,Tibetan_terrier,caldron\n",
      "7004,cleaver,safety_pin\n",
      "7009,German_shepherd,trombone\n",
      "7059,ptarmigan,spider_monkey\n",
      "7061,desk,espresso\n",
      "7249,green_lizard,valley\n",
      "7730,stingray,Pekinese\n",
      "7901,garden_spider,soup_bowl\n"
     ]
    }
   ],
   "source": [
    "for k, v in config_vs_best_classtxt.items():\n",
    "    print(f\"{k},{','.join(v)}\")"
   ]
  },
  {
   "cell_type": "code",
   "execution_count": null,
   "metadata": {},
   "outputs": [],
   "source": []
  }
 ],
 "metadata": {
  "interpreter": {
   "hash": "57f9f1f826476e66e3381856e5192d6dfc81ca56a9418a5abd450e67bcdb4972"
  },
  "kernelspec": {
   "display_name": "Python 3 (ipykernel)",
   "language": "python",
   "name": "python3"
  },
  "language_info": {
   "codemirror_mode": {
    "name": "ipython",
    "version": 3
   },
   "file_extension": ".py",
   "mimetype": "text/x-python",
   "name": "python",
   "nbconvert_exporter": "python",
   "pygments_lexer": "ipython3",
   "version": "3.9.12"
  }
 },
 "nbformat": 4,
 "nbformat_minor": 2
}
